{
 "cells": [
  {
   "cell_type": "markdown",
   "metadata": {},
   "source": [
    "## Imports"
   ]
  },
  {
   "cell_type": "code",
   "execution_count": 2,
   "metadata": {},
   "outputs": [],
   "source": [
    "import matplotlib.pyplot as plt\n",
    "import numpy as np\n",
    "import pandas as pd\n",
    "import plotly.express as px # this is another plotting library for interactive plot\n",
    "\n",
    "from sklearn.model_selection import train_test_split\n",
    "from sklearn import metrics, manifold # we will use the metrics and manifold learning modules from scikit-learn\n",
    "from pathlib import Path # to interact with file paths\n",
    "from PIL import Image # to interact with images\n",
    "from tqdm import tqdm # progress bar\n",
    "from pprint import pprint # pretty print (useful for a more readable print of objects like lists or dictionaries)\n",
    "\n",
    "import torch\n",
    "import torch.nn as nn\n",
    "import torchvision\n",
    "from torchvision.io import read_image\n",
    "from torchvision import transforms\n",
    "from torch.utils.data import Dataset, DataLoader\n",
    "import cv2 as cv\n",
    "\n",
    "device = torch.device(\"cuda:0\" if torch.cuda.is_available() else \"cpu\")\n",
    "# device = torch.device(\"cpu\")"
   ]
  },
  {
   "cell_type": "markdown",
   "metadata": {},
   "source": [
    "## Load Pretrained Net and create Detector "
   ]
  },
  {
   "cell_type": "code",
   "execution_count": 4,
   "metadata": {},
   "outputs": [
    {
     "name": "stderr",
     "output_type": "stream",
     "text": [
      "Using cache found in /home/irong/.cache/torch/hub/ultralytics_yolov5_master\n",
      "YOLOv5 🚀 2022-2-17 torch 1.10.0+cu113 CUDA:0 (NVIDIA GeForce GTX 950M, 2004MiB)\n",
      "\n",
      "Fusing layers... \n",
      "Model Summary: 213 layers, 7225885 parameters, 0 gradients\n",
      "Adding AutoShape... \n",
      "image 1/1: 480x640 (no detections)\n",
      "Speed: 2.5ms pre-process, 40.5ms inference, 0.8ms NMS per image at shape (1, 3, 480, 640)\n",
      "Saved 1 image to \u001b[1mruns/detect/exp2053\u001b[0m\n",
      "image 1/1: 480x640 (no detections)\n",
      "Speed: 2.0ms pre-process, 40.5ms inference, 1.9ms NMS per image at shape (1, 3, 480, 640)\n",
      "Saved 1 image to \u001b[1mruns/detect/exp2054\u001b[0m\n",
      "image 1/1: 480x640 (no detections)\n",
      "Speed: 5.0ms pre-process, 40.3ms inference, 1.3ms NMS per image at shape (1, 3, 480, 640)\n",
      "Saved 1 image to \u001b[1mruns/detect/exp2055\u001b[0m\n"
     ]
    },
    {
     "name": "stdout",
     "output_type": "stream",
     "text": [
      "no predictions\n",
      "no predictions\n",
      "no predictions"
     ]
    },
    {
     "name": "stderr",
     "output_type": "stream",
     "text": [
      "image 1/1: 480x640 (no detections)\n",
      "Speed: 2.2ms pre-process, 40.2ms inference, 2.0ms NMS per image at shape (1, 3, 480, 640)\n",
      "Saved 1 image to \u001b[1mruns/detect/exp2056\u001b[0m\n",
      "image 1/1: 480x640 (no detections)\n",
      "Speed: 2.0ms pre-process, 40.3ms inference, 2.0ms NMS per image at shape (1, 3, 480, 640)\n"
     ]
    },
    {
     "name": "stdout",
     "output_type": "stream",
     "text": [
      "\n",
      "no predictions\n"
     ]
    },
    {
     "name": "stderr",
     "output_type": "stream",
     "text": [
      "Saved 1 image to \u001b[1mruns/detect/exp2057\u001b[0m\n",
      "image 1/1: 480x640 (no detections)\n",
      "Speed: 2.3ms pre-process, 40.4ms inference, 1.2ms NMS per image at shape (1, 3, 480, 640)\n",
      "Saved 1 image to \u001b[1mruns/detect/exp2058\u001b[0m\n",
      "image 1/1: 480x640 (no detections)\n",
      "Speed: 2.1ms pre-process, 44.4ms inference, 4.2ms NMS per image at shape (1, 3, 480, 640)\n"
     ]
    },
    {
     "name": "stdout",
     "output_type": "stream",
     "text": [
      "no predictions\n",
      "no predictions\n"
     ]
    },
    {
     "name": "stderr",
     "output_type": "stream",
     "text": [
      "Saved 1 image to \u001b[1mruns/detect/exp2059\u001b[0m\n",
      "image 1/1: 480x640 (no detections)\n",
      "Speed: 2.3ms pre-process, 56.0ms inference, 2.1ms NMS per image at shape (1, 3, 480, 640)\n",
      "Saved 1 image to \u001b[1mruns/detect/exp2060\u001b[0m\n",
      "image 1/1: 480x640 (no detections)\n",
      "Speed: 2.8ms pre-process, 40.4ms inference, 2.2ms NMS per image at shape (1, 3, 480, 640)\n"
     ]
    },
    {
     "name": "stdout",
     "output_type": "stream",
     "text": [
      "no predictions\n",
      "no predictions\n"
     ]
    },
    {
     "name": "stderr",
     "output_type": "stream",
     "text": [
      "Saved 1 image to \u001b[1mruns/detect/exp2061\u001b[0m\n",
      "image 1/1: 480x640 (no detections)\n",
      "Speed: 2.1ms pre-process, 40.2ms inference, 1.2ms NMS per image at shape (1, 3, 480, 640)\n",
      "Saved 1 image to \u001b[1mruns/detect/exp2062\u001b[0m\n",
      "image 1/1: 480x640 (no detections)\n",
      "Speed: 1.9ms pre-process, 40.5ms inference, 1.7ms NMS per image at shape (1, 3, 480, 640)\n",
      "Saved 1 image to \u001b[1mruns/detect/exp2063\u001b[0m\n"
     ]
    },
    {
     "name": "stdout",
     "output_type": "stream",
     "text": [
      "no predictions\n",
      "no predictions\n",
      "no predictions\n"
     ]
    },
    {
     "name": "stderr",
     "output_type": "stream",
     "text": [
      "image 1/1: 480x640 (no detections)\n",
      "Speed: 2.1ms pre-process, 40.9ms inference, 2.0ms NMS per image at shape (1, 3, 480, 640)\n",
      "Saved 1 image to \u001b[1mruns/detect/exp2064\u001b[0m\n",
      "image 1/1: 480x640 (no detections)\n",
      "Speed: 2.2ms pre-process, 40.1ms inference, 1.1ms NMS per image at shape (1, 3, 480, 640)\n",
      "Saved 1 image to \u001b[1mruns/detect/exp2065\u001b[0m\n",
      "image 1/1: 480x640 1 umbrella\n",
      "Speed: 2.0ms pre-process, 40.4ms inference, 1.7ms NMS per image at shape (1, 3, 480, 640)\n",
      "Saved 1 image to \u001b[1mruns/detect/exp2066\u001b[0m\n"
     ]
    },
    {
     "name": "stdout",
     "output_type": "stream",
     "text": [
      "no predictions\n",
      "no predictions\n",
      "[     85.125      413.49      539.85      479.74]\n"
     ]
    },
    {
     "name": "stderr",
     "output_type": "stream",
     "text": [
      "image 1/1: 480x640 1 umbrella\n",
      "Speed: 2.0ms pre-process, 40.8ms inference, 2.0ms NMS per image at shape (1, 3, 480, 640)\n",
      "Saved 1 image to \u001b[1mruns/detect/exp2067\u001b[0m\n",
      "image 1/1: 480x640 1 umbrella\n",
      "Speed: 2.1ms pre-process, 40.4ms inference, 1.6ms NMS per image at shape (1, 3, 480, 640)\n",
      "Saved 1 image to \u001b[1mruns/detect/exp2068\u001b[0m\n",
      "image 1/1: 480x640 1 umbrella\n",
      "Speed: 2.0ms pre-process, 40.5ms inference, 1.5ms NMS per image at shape (1, 3, 480, 640)\n",
      "Saved 1 image to \u001b[1mruns/detect/exp2069\u001b[0m\n"
     ]
    },
    {
     "name": "stdout",
     "output_type": "stream",
     "text": [
      "[     87.429      414.49      539.56      479.67]\n",
      "[     87.381      413.71      536.76         480]\n",
      "[     87.868      413.82      537.62         480]\n"
     ]
    },
    {
     "name": "stderr",
     "output_type": "stream",
     "text": [
      "image 1/1: 480x640 (no detections)\n",
      "Speed: 2.3ms pre-process, 40.6ms inference, 1.6ms NMS per image at shape (1, 3, 480, 640)\n",
      "Saved 1 image to \u001b[1mruns/detect/exp2070\u001b[0m\n",
      "image 1/1: 480x640 (no detections)\n",
      "Speed: 1.9ms pre-process, 40.4ms inference, 0.7ms NMS per image at shape (1, 3, 480, 640)\n",
      "Saved 1 image to \u001b[1mruns/detect/exp2071\u001b[0m\n",
      "image 1/1: 480x640 (no detections)\n",
      "Speed: 2.1ms pre-process, 40.6ms inference, 0.7ms NMS per image at shape (1, 3, 480, 640)\n",
      "Saved 1 image to \u001b[1mruns/detect/exp2072\u001b[0m\n"
     ]
    },
    {
     "name": "stdout",
     "output_type": "stream",
     "text": [
      "no predictions\n",
      "no predictions\n",
      "no predictions\n"
     ]
    },
    {
     "name": "stderr",
     "output_type": "stream",
     "text": [
      "image 1/1: 480x640 (no detections)\n",
      "Speed: 2.1ms pre-process, 40.5ms inference, 1.1ms NMS per image at shape (1, 3, 480, 640)\n",
      "Saved 1 image to \u001b[1mruns/detect/exp2073\u001b[0m\n",
      "image 1/1: 480x640 (no detections)\n",
      "Speed: 1.8ms pre-process, 40.5ms inference, 1.3ms NMS per image at shape (1, 3, 480, 640)\n",
      "Saved 1 image to \u001b[1mruns/detect/exp2074\u001b[0m\n",
      "image 1/1: 480x640 (no detections)\n",
      "Speed: 1.9ms pre-process, 40.5ms inference, 1.0ms NMS per image at shape (1, 3, 480, 640)\n",
      "Saved 1 image to \u001b[1mruns/detect/exp2075\u001b[0m\n"
     ]
    },
    {
     "name": "stdout",
     "output_type": "stream",
     "text": [
      "no predictions\n",
      "no predictions\n",
      "no predictions\n"
     ]
    },
    {
     "name": "stderr",
     "output_type": "stream",
     "text": [
      "image 1/1: 480x640 (no detections)\n",
      "Speed: 2.1ms pre-process, 40.7ms inference, 1.0ms NMS per image at shape (1, 3, 480, 640)\n",
      "Saved 1 image to \u001b[1mruns/detect/exp2076\u001b[0m\n",
      "image 1/1: 480x640 (no detections)\n",
      "Speed: 2.2ms pre-process, 40.4ms inference, 0.7ms NMS per image at shape (1, 3, 480, 640)\n",
      "Saved 1 image to \u001b[1mruns/detect/exp2077\u001b[0m\n",
      "image 1/1: 480x640 (no detections)\n",
      "Speed: 1.8ms pre-process, 40.5ms inference, 1.1ms NMS per image at shape (1, 3, 480, 640)\n",
      "Saved 1 image to \u001b[1mruns/detect/exp2078\u001b[0m\n"
     ]
    },
    {
     "name": "stdout",
     "output_type": "stream",
     "text": [
      "no predictions\n",
      "no predictions\n",
      "no predictions\n"
     ]
    },
    {
     "name": "stderr",
     "output_type": "stream",
     "text": [
      "image 1/1: 480x640 (no detections)\n",
      "Speed: 2.3ms pre-process, 41.0ms inference, 1.2ms NMS per image at shape (1, 3, 480, 640)\n",
      "Saved 1 image to \u001b[1mruns/detect/exp2079\u001b[0m\n",
      "image 1/1: 480x640 1 umbrella\n",
      "Speed: 2.2ms pre-process, 40.4ms inference, 1.5ms NMS per image at shape (1, 3, 480, 640)\n",
      "Saved 1 image to \u001b[1mruns/detect/exp2080\u001b[0m\n",
      "image 1/1: 480x640 1 umbrella\n",
      "Speed: 2.1ms pre-process, 40.5ms inference, 1.5ms NMS per image at shape (1, 3, 480, 640)\n",
      "Saved 1 image to \u001b[1mruns/detect/exp2081\u001b[0m\n"
     ]
    },
    {
     "name": "stdout",
     "output_type": "stream",
     "text": [
      "no predictions\n",
      "[     81.236      416.98      530.04      478.93]\n",
      "[      77.48      414.98      533.01      479.04]\n"
     ]
    },
    {
     "name": "stderr",
     "output_type": "stream",
     "text": [
      "image 1/1: 480x640 1 umbrella\n",
      "Speed: 2.0ms pre-process, 40.8ms inference, 2.1ms NMS per image at shape (1, 3, 480, 640)\n",
      "Saved 1 image to \u001b[1mruns/detect/exp2082\u001b[0m\n",
      "image 1/1: 480x640 (no detections)\n",
      "Speed: 2.1ms pre-process, 40.7ms inference, 1.7ms NMS per image at shape (1, 3, 480, 640)\n",
      "Saved 1 image to \u001b[1mruns/detect/exp2083\u001b[0m\n",
      "image 1/1: 480x640 (no detections)\n",
      "Speed: 1.9ms pre-process, 40.3ms inference, 1.6ms NMS per image at shape (1, 3, 480, 640)\n",
      "Saved 1 image to \u001b[1mruns/detect/exp2084\u001b[0m\n"
     ]
    },
    {
     "name": "stdout",
     "output_type": "stream",
     "text": [
      "[     81.763      415.99      528.92      479.76]\n",
      "no predictions\n",
      "no predictions\n"
     ]
    },
    {
     "name": "stderr",
     "output_type": "stream",
     "text": [
      "image 1/1: 480x640 1 umbrella\n",
      "Speed: 1.8ms pre-process, 40.6ms inference, 1.8ms NMS per image at shape (1, 3, 480, 640)\n",
      "Saved 1 image to \u001b[1mruns/detect/exp2085\u001b[0m\n",
      "image 1/1: 480x640 1 umbrella\n",
      "Speed: 1.9ms pre-process, 40.7ms inference, 2.2ms NMS per image at shape (1, 3, 480, 640)\n",
      "Saved 1 image to \u001b[1mruns/detect/exp2086\u001b[0m\n",
      "image 1/1: 480x640 1 umbrella\n",
      "Speed: 1.9ms pre-process, 40.1ms inference, 1.6ms NMS per image at shape (1, 3, 480, 640)\n",
      "Saved 1 image to \u001b[1mruns/detect/exp2087\u001b[0m\n"
     ]
    },
    {
     "name": "stdout",
     "output_type": "stream",
     "text": [
      "[     65.068      413.36      541.67         480]\n",
      "[     80.564      413.05      545.93         480]\n",
      "[     98.982      413.79      537.64      479.31]\n"
     ]
    },
    {
     "name": "stderr",
     "output_type": "stream",
     "text": [
      "image 1/1: 480x640 1 umbrella\n",
      "Speed: 1.9ms pre-process, 40.7ms inference, 2.4ms NMS per image at shape (1, 3, 480, 640)\n",
      "Saved 1 image to \u001b[1mruns/detect/exp2088\u001b[0m\n",
      "image 1/1: 480x640 1 umbrella\n",
      "Speed: 2.2ms pre-process, 40.3ms inference, 1.5ms NMS per image at shape (1, 3, 480, 640)\n",
      "Saved 1 image to \u001b[1mruns/detect/exp2089\u001b[0m\n",
      "image 1/1: 480x640 1 umbrella\n",
      "Speed: 2.0ms pre-process, 40.2ms inference, 1.5ms NMS per image at shape (1, 3, 480, 640)\n",
      "Saved 1 image to \u001b[1mruns/detect/exp2090\u001b[0m\n"
     ]
    },
    {
     "name": "stdout",
     "output_type": "stream",
     "text": [
      "[     99.211       413.9      537.63      479.31]\n",
      "[      99.51       413.6      537.91      479.32]\n",
      "[     99.323      413.59      537.91      479.36]\n"
     ]
    },
    {
     "name": "stderr",
     "output_type": "stream",
     "text": [
      "image 1/1: 480x640 1 umbrella\n",
      "Speed: 1.9ms pre-process, 40.8ms inference, 2.3ms NMS per image at shape (1, 3, 480, 640)\n",
      "Saved 1 image to \u001b[1mruns/detect/exp2091\u001b[0m\n",
      "image 1/1: 480x640 1 umbrella\n",
      "Speed: 1.9ms pre-process, 40.6ms inference, 2.1ms NMS per image at shape (1, 3, 480, 640)\n",
      "Saved 1 image to \u001b[1mruns/detect/exp2092\u001b[0m\n",
      "image 1/1: 480x640 1 umbrella\n",
      "Speed: 1.8ms pre-process, 40.3ms inference, 2.1ms NMS per image at shape (1, 3, 480, 640)\n",
      "Saved 1 image to \u001b[1mruns/detect/exp2093\u001b[0m\n"
     ]
    },
    {
     "name": "stdout",
     "output_type": "stream",
     "text": [
      "[     99.484      413.79      537.99      479.44]\n",
      "[     99.773      413.52      538.22      479.48]\n",
      "[     104.28      414.94      537.39       479.4]\n"
     ]
    },
    {
     "name": "stderr",
     "output_type": "stream",
     "text": [
      "image 1/1: 480x640 1 umbrella\n",
      "Speed: 1.9ms pre-process, 41.3ms inference, 2.5ms NMS per image at shape (1, 3, 480, 640)\n",
      "Saved 1 image to \u001b[1mruns/detect/exp2094\u001b[0m\n",
      "image 1/1: 480x640 1 umbrella\n",
      "Speed: 2.4ms pre-process, 40.6ms inference, 1.6ms NMS per image at shape (1, 3, 480, 640)\n",
      "Saved 1 image to \u001b[1mruns/detect/exp2095\u001b[0m\n",
      "image 1/1: 480x640 1 umbrella\n",
      "Speed: 2.2ms pre-process, 40.7ms inference, 1.7ms NMS per image at shape (1, 3, 480, 640)\n",
      "Saved 1 image to \u001b[1mruns/detect/exp2096\u001b[0m\n"
     ]
    },
    {
     "name": "stdout",
     "output_type": "stream",
     "text": [
      "[     105.33      414.82      537.26      479.32]\n",
      "[     99.744      414.35       537.3       479.6]\n",
      "[      100.2      413.62      537.91      479.63]\n"
     ]
    },
    {
     "name": "stderr",
     "output_type": "stream",
     "text": [
      "image 1/1: 480x640 1 umbrella\n",
      "Speed: 2.4ms pre-process, 40.5ms inference, 2.2ms NMS per image at shape (1, 3, 480, 640)\n",
      "Saved 1 image to \u001b[1mruns/detect/exp2097\u001b[0m\n",
      "image 1/1: 480x640 1 umbrella\n",
      "Speed: 2.2ms pre-process, 40.5ms inference, 1.4ms NMS per image at shape (1, 3, 480, 640)\n",
      "Saved 1 image to \u001b[1mruns/detect/exp2098\u001b[0m\n",
      "image 1/1: 480x640 1 umbrella\n",
      "Speed: 2.0ms pre-process, 40.5ms inference, 1.7ms NMS per image at shape (1, 3, 480, 640)\n",
      "Saved 1 image to \u001b[1mruns/detect/exp2099\u001b[0m\n"
     ]
    },
    {
     "name": "stdout",
     "output_type": "stream",
     "text": [
      "[      99.13      413.82      537.78      479.61]\n",
      "[     98.641      413.68      537.66      479.49]\n",
      "[     98.243      413.67      537.19      479.64]\n"
     ]
    },
    {
     "name": "stderr",
     "output_type": "stream",
     "text": [
      "image 1/1: 480x640 1 umbrella\n",
      "Speed: 2.0ms pre-process, 40.3ms inference, 2.1ms NMS per image at shape (1, 3, 480, 640)\n",
      "Saved 1 image to \u001b[1mruns/detect/exp2100\u001b[0m\n",
      "image 1/1: 480x640 1 umbrella\n",
      "Speed: 4.6ms pre-process, 40.4ms inference, 2.2ms NMS per image at shape (1, 3, 480, 640)\n",
      "Saved 1 image to \u001b[1mruns/detect/exp2101\u001b[0m\n",
      "image 1/1: 480x640 1 umbrella\n",
      "Speed: 2.2ms pre-process, 40.2ms inference, 2.5ms NMS per image at shape (1, 3, 480, 640)\n",
      "Saved 1 image to \u001b[1mruns/detect/exp2102\u001b[0m\n"
     ]
    },
    {
     "name": "stdout",
     "output_type": "stream",
     "text": [
      "[     99.464       414.3      537.28      479.46]\n",
      "[      99.21      414.31      538.05      479.34]\n",
      "[     99.859       414.8      536.78       479.3]\n"
     ]
    },
    {
     "name": "stderr",
     "output_type": "stream",
     "text": [
      "image 1/1: 480x640 1 umbrella\n",
      "Speed: 2.6ms pre-process, 40.4ms inference, 2.3ms NMS per image at shape (1, 3, 480, 640)\n",
      "Saved 1 image to \u001b[1mruns/detect/exp2103\u001b[0m\n",
      "image 1/1: 480x640 1 umbrella\n",
      "Speed: 2.1ms pre-process, 40.3ms inference, 2.2ms NMS per image at shape (1, 3, 480, 640)\n",
      "Saved 1 image to \u001b[1mruns/detect/exp2104\u001b[0m\n",
      "image 1/1: 480x640 1 umbrella\n",
      "Speed: 2.1ms pre-process, 40.2ms inference, 2.1ms NMS per image at shape (1, 3, 480, 640)\n",
      "Saved 1 image to \u001b[1mruns/detect/exp2105\u001b[0m\n"
     ]
    },
    {
     "name": "stdout",
     "output_type": "stream",
     "text": [
      "[     107.82      416.38      534.92      478.96]\n",
      "[     100.19      415.28      536.34      479.25]\n",
      "[     99.761      415.37      536.22      479.24]\n"
     ]
    },
    {
     "name": "stderr",
     "output_type": "stream",
     "text": [
      "image 1/1: 480x640 1 umbrella\n",
      "Speed: 2.1ms pre-process, 40.5ms inference, 2.1ms NMS per image at shape (1, 3, 480, 640)\n",
      "Saved 1 image to \u001b[1mruns/detect/exp2106\u001b[0m\n",
      "image 1/1: 480x640 1 umbrella\n",
      "Speed: 3.9ms pre-process, 40.3ms inference, 2.4ms NMS per image at shape (1, 3, 480, 640)\n",
      "Saved 1 image to \u001b[1mruns/detect/exp2107\u001b[0m\n",
      "image 1/1: 480x640 1 umbrella\n",
      "Speed: 2.3ms pre-process, 40.4ms inference, 1.5ms NMS per image at shape (1, 3, 480, 640)\n",
      "Saved 1 image to \u001b[1mruns/detect/exp2108\u001b[0m\n"
     ]
    },
    {
     "name": "stdout",
     "output_type": "stream",
     "text": [
      "[     99.711      415.45      535.93      479.23]\n",
      "[      101.6      415.02      536.11      479.21]\n",
      "[     100.03      415.15       536.9      479.29]\n"
     ]
    },
    {
     "name": "stderr",
     "output_type": "stream",
     "text": [
      "image 1/1: 480x640 1 umbrella\n",
      "Speed: 1.9ms pre-process, 40.3ms inference, 1.7ms NMS per image at shape (1, 3, 480, 640)\n",
      "Saved 1 image to \u001b[1mruns/detect/exp2109\u001b[0m\n",
      "image 1/1: 480x640 1 umbrella\n",
      "Speed: 2.1ms pre-process, 40.3ms inference, 2.5ms NMS per image at shape (1, 3, 480, 640)\n",
      "Saved 1 image to \u001b[1mruns/detect/exp2110\u001b[0m\n",
      "image 1/1: 480x640 1 umbrella\n",
      "Speed: 1.9ms pre-process, 40.1ms inference, 2.0ms NMS per image at shape (1, 3, 480, 640)\n",
      "Saved 1 image to \u001b[1mruns/detect/exp2111\u001b[0m\n"
     ]
    },
    {
     "name": "stdout",
     "output_type": "stream",
     "text": [
      "[      99.93      414.96      537.03      479.25]\n",
      "[     106.13      416.14      536.15      479.07]\n",
      "[     100.37      414.64      537.38      479.21]\n"
     ]
    },
    {
     "name": "stderr",
     "output_type": "stream",
     "text": [
      "image 1/1: 480x640 1 umbrella\n",
      "Speed: 1.8ms pre-process, 40.8ms inference, 3.4ms NMS per image at shape (1, 3, 480, 640)\n",
      "Saved 1 image to \u001b[1mruns/detect/exp2112\u001b[0m\n",
      "image 1/1: 480x640 1 umbrella\n",
      "Speed: 1.9ms pre-process, 40.2ms inference, 2.2ms NMS per image at shape (1, 3, 480, 640)\n",
      "Saved 1 image to \u001b[1mruns/detect/exp2113\u001b[0m\n",
      "image 1/1: 480x640 1 umbrella\n",
      "Speed: 2.0ms pre-process, 40.4ms inference, 1.5ms NMS per image at shape (1, 3, 480, 640)\n",
      "Saved 1 image to \u001b[1mruns/detect/exp2114\u001b[0m\n"
     ]
    },
    {
     "name": "stdout",
     "output_type": "stream",
     "text": [
      "[     99.334      414.66      537.14      479.22]\n",
      "[     99.135       414.7      537.08      479.22]\n",
      "[     99.789      414.82      536.86       479.2]\n"
     ]
    },
    {
     "name": "stderr",
     "output_type": "stream",
     "text": [
      "image 1/1: 480x640 1 umbrella\n",
      "Speed: 1.9ms pre-process, 40.7ms inference, 2.2ms NMS per image at shape (1, 3, 480, 640)\n",
      "Saved 1 image to \u001b[1mruns/detect/exp2115\u001b[0m\n",
      "image 1/1: 480x640 1 umbrella\n",
      "Speed: 1.8ms pre-process, 40.2ms inference, 1.6ms NMS per image at shape (1, 3, 480, 640)\n",
      "Saved 1 image to \u001b[1mruns/detect/exp2116\u001b[0m\n",
      "image 1/1: 480x640 1 umbrella\n",
      "Speed: 1.8ms pre-process, 40.4ms inference, 2.2ms NMS per image at shape (1, 3, 480, 640)\n",
      "Saved 1 image to \u001b[1mruns/detect/exp2117\u001b[0m\n"
     ]
    },
    {
     "name": "stdout",
     "output_type": "stream",
     "text": [
      "[     100.05       414.7      536.67      479.23]\n",
      "[     99.627      414.84      535.75      479.24]\n",
      "[     99.338      414.42       536.9      479.19]\n"
     ]
    },
    {
     "name": "stderr",
     "output_type": "stream",
     "text": [
      "image 1/1: 480x640 1 umbrella\n",
      "Speed: 2.6ms pre-process, 40.4ms inference, 3.3ms NMS per image at shape (1, 3, 480, 640)\n",
      "Saved 1 image to \u001b[1mruns/detect/exp2118\u001b[0m\n",
      "image 1/1: 480x640 1 umbrella\n",
      "Speed: 2.1ms pre-process, 40.3ms inference, 1.4ms NMS per image at shape (1, 3, 480, 640)\n",
      "Saved 1 image to \u001b[1mruns/detect/exp2119\u001b[0m\n",
      "image 1/1: 480x640 1 umbrella\n",
      "Speed: 2.6ms pre-process, 40.4ms inference, 2.2ms NMS per image at shape (1, 3, 480, 640)\n",
      "Saved 1 image to \u001b[1mruns/detect/exp2120\u001b[0m\n"
     ]
    },
    {
     "name": "stdout",
     "output_type": "stream",
     "text": [
      "[     99.099      414.35      537.73      479.22]\n",
      "[     99.884       414.6      537.15      479.12]\n",
      "[      100.1      414.69      537.44       479.1]\n"
     ]
    },
    {
     "name": "stderr",
     "output_type": "stream",
     "text": [
      "image 1/1: 480x640 1 umbrella\n",
      "Speed: 2.5ms pre-process, 40.4ms inference, 3.7ms NMS per image at shape (1, 3, 480, 640)\n",
      "Saved 1 image to \u001b[1mruns/detect/exp2121\u001b[0m\n",
      "image 1/1: 480x640 1 umbrella\n",
      "Speed: 2.0ms pre-process, 40.5ms inference, 1.8ms NMS per image at shape (1, 3, 480, 640)\n",
      "Saved 1 image to \u001b[1mruns/detect/exp2122\u001b[0m\n",
      "image 1/1: 480x640 1 umbrella\n",
      "Speed: 1.9ms pre-process, 40.3ms inference, 1.6ms NMS per image at shape (1, 3, 480, 640)\n",
      "Saved 1 image to \u001b[1mruns/detect/exp2123\u001b[0m\n"
     ]
    },
    {
     "name": "stdout",
     "output_type": "stream",
     "text": [
      "[     100.03      414.75      537.29      479.12]\n",
      "[     99.816      415.39      537.43      479.01]\n",
      "[     99.724      415.43      537.21      478.99]\n"
     ]
    },
    {
     "name": "stderr",
     "output_type": "stream",
     "text": [
      "image 1/1: 480x640 (no detections)\n",
      "Speed: 2.0ms pre-process, 40.5ms inference, 1.7ms NMS per image at shape (1, 3, 480, 640)\n",
      "Saved 1 image to \u001b[1mruns/detect/exp2124\u001b[0m\n",
      "image 1/1: 480x640 (no detections)\n",
      "Speed: 2.2ms pre-process, 40.3ms inference, 1.5ms NMS per image at shape (1, 3, 480, 640)\n",
      "Saved 1 image to \u001b[1mruns/detect/exp2125\u001b[0m\n",
      "image 1/1: 480x640 (no detections)\n",
      "Speed: 2.2ms pre-process, 40.2ms inference, 0.8ms NMS per image at shape (1, 3, 480, 640)\n",
      "Saved 1 image to \u001b[1mruns/detect/exp2126\u001b[0m\n"
     ]
    },
    {
     "name": "stdout",
     "output_type": "stream",
     "text": [
      "no predictions\n",
      "no predictions\n",
      "no predictions\n"
     ]
    },
    {
     "name": "stderr",
     "output_type": "stream",
     "text": [
      "image 1/1: 480x640 (no detections)\n",
      "Speed: 1.8ms pre-process, 40.6ms inference, 0.8ms NMS per image at shape (1, 3, 480, 640)\n",
      "Saved 1 image to \u001b[1mruns/detect/exp2127\u001b[0m\n",
      "image 1/1: 480x640 (no detections)\n",
      "Speed: 1.8ms pre-process, 40.5ms inference, 0.7ms NMS per image at shape (1, 3, 480, 640)\n",
      "Saved 1 image to \u001b[1mruns/detect/exp2128\u001b[0m\n",
      "image 1/1: 480x640 (no detections)\n",
      "Speed: 1.9ms pre-process, 40.6ms inference, 0.7ms NMS per image at shape (1, 3, 480, 640)\n",
      "Saved 1 image to \u001b[1mruns/detect/exp2129\u001b[0m\n"
     ]
    },
    {
     "name": "stdout",
     "output_type": "stream",
     "text": [
      "no predictions\n",
      "no predictions\n",
      "no predictions\n"
     ]
    },
    {
     "name": "stderr",
     "output_type": "stream",
     "text": [
      "image 1/1: 480x640 (no detections)\n",
      "Speed: 2.0ms pre-process, 40.8ms inference, 1.1ms NMS per image at shape (1, 3, 480, 640)\n",
      "Saved 1 image to \u001b[1mruns/detect/exp2130\u001b[0m\n",
      "image 1/1: 480x640 (no detections)\n",
      "Speed: 2.5ms pre-process, 40.3ms inference, 1.6ms NMS per image at shape (1, 3, 480, 640)\n",
      "Saved 1 image to \u001b[1mruns/detect/exp2131\u001b[0m\n",
      "image 1/1: 480x640 (no detections)\n",
      "Speed: 2.1ms pre-process, 40.4ms inference, 1.4ms NMS per image at shape (1, 3, 480, 640)\n",
      "Saved 1 image to \u001b[1mruns/detect/exp2132\u001b[0m\n"
     ]
    },
    {
     "name": "stdout",
     "output_type": "stream",
     "text": [
      "no predictions\n",
      "no predictions\n",
      "no predictions\n"
     ]
    },
    {
     "name": "stderr",
     "output_type": "stream",
     "text": [
      "image 1/1: 480x640 (no detections)\n",
      "Speed: 3.4ms pre-process, 40.1ms inference, 1.1ms NMS per image at shape (1, 3, 480, 640)\n",
      "Saved 1 image to \u001b[1mruns/detect/exp2133\u001b[0m\n",
      "image 1/1: 480x640 (no detections)\n",
      "Speed: 2.3ms pre-process, 40.2ms inference, 0.7ms NMS per image at shape (1, 3, 480, 640)\n",
      "Saved 1 image to \u001b[1mruns/detect/exp2134\u001b[0m\n",
      "image 1/1: 480x640 (no detections)\n",
      "Speed: 2.2ms pre-process, 40.6ms inference, 0.7ms NMS per image at shape (1, 3, 480, 640)\n",
      "Saved 1 image to \u001b[1mruns/detect/exp2135\u001b[0m\n"
     ]
    },
    {
     "name": "stdout",
     "output_type": "stream",
     "text": [
      "no predictions\n",
      "no predictions\n",
      "no predictions\n"
     ]
    },
    {
     "name": "stderr",
     "output_type": "stream",
     "text": [
      "image 1/1: 480x640 (no detections)\n",
      "Speed: 2.2ms pre-process, 40.6ms inference, 1.1ms NMS per image at shape (1, 3, 480, 640)\n",
      "Saved 1 image to \u001b[1mruns/detect/exp2136\u001b[0m\n",
      "image 1/1: 480x640 (no detections)\n",
      "Speed: 2.7ms pre-process, 40.4ms inference, 1.1ms NMS per image at shape (1, 3, 480, 640)\n",
      "Saved 1 image to \u001b[1mruns/detect/exp2137\u001b[0m\n",
      "image 1/1: 480x640 (no detections)\n",
      "Speed: 1.9ms pre-process, 40.3ms inference, 0.8ms NMS per image at shape (1, 3, 480, 640)\n",
      "Saved 1 image to \u001b[1mruns/detect/exp2138\u001b[0m\n"
     ]
    },
    {
     "name": "stdout",
     "output_type": "stream",
     "text": [
      "no predictions\n",
      "no predictions\n",
      "no predictions\n"
     ]
    },
    {
     "name": "stderr",
     "output_type": "stream",
     "text": [
      "image 1/1: 480x640 (no detections)\n",
      "Speed: 2.2ms pre-process, 40.8ms inference, 1.0ms NMS per image at shape (1, 3, 480, 640)\n",
      "Saved 1 image to \u001b[1mruns/detect/exp2139\u001b[0m\n",
      "image 1/1: 480x640 (no detections)\n",
      "Speed: 1.8ms pre-process, 40.5ms inference, 0.9ms NMS per image at shape (1, 3, 480, 640)\n",
      "Saved 1 image to \u001b[1mruns/detect/exp2140\u001b[0m\n",
      "image 1/1: 480x640 (no detections)\n",
      "Speed: 2.1ms pre-process, 40.4ms inference, 1.0ms NMS per image at shape (1, 3, 480, 640)\n",
      "Saved 1 image to \u001b[1mruns/detect/exp2141\u001b[0m\n"
     ]
    },
    {
     "name": "stdout",
     "output_type": "stream",
     "text": [
      "no predictions\n",
      "no predictions\n",
      "no predictions\n"
     ]
    },
    {
     "name": "stderr",
     "output_type": "stream",
     "text": [
      "image 1/1: 480x640 (no detections)\n",
      "Speed: 2.2ms pre-process, 40.8ms inference, 1.2ms NMS per image at shape (1, 3, 480, 640)\n",
      "Saved 1 image to \u001b[1mruns/detect/exp2142\u001b[0m\n",
      "image 1/1: 480x640 (no detections)\n",
      "Speed: 2.3ms pre-process, 40.4ms inference, 1.2ms NMS per image at shape (1, 3, 480, 640)\n",
      "Saved 1 image to \u001b[1mruns/detect/exp2143\u001b[0m\n",
      "image 1/1: 480x640 (no detections)\n",
      "Speed: 2.4ms pre-process, 40.5ms inference, 1.1ms NMS per image at shape (1, 3, 480, 640)\n",
      "Saved 1 image to \u001b[1mruns/detect/exp2144\u001b[0m\n"
     ]
    },
    {
     "name": "stdout",
     "output_type": "stream",
     "text": [
      "no predictions\n",
      "no predictions\n",
      "no predictions\n"
     ]
    },
    {
     "name": "stderr",
     "output_type": "stream",
     "text": [
      "image 1/1: 480x640 (no detections)\n",
      "Speed: 2.0ms pre-process, 40.7ms inference, 1.8ms NMS per image at shape (1, 3, 480, 640)\n",
      "Saved 1 image to \u001b[1mruns/detect/exp2145\u001b[0m\n",
      "image 1/1: 480x640 (no detections)\n",
      "Speed: 2.2ms pre-process, 40.3ms inference, 1.0ms NMS per image at shape (1, 3, 480, 640)\n",
      "Saved 1 image to \u001b[1mruns/detect/exp2146\u001b[0m\n",
      "image 1/1: 480x640 (no detections)\n",
      "Speed: 2.1ms pre-process, 40.4ms inference, 1.0ms NMS per image at shape (1, 3, 480, 640)\n",
      "Saved 1 image to \u001b[1mruns/detect/exp2147\u001b[0m\n"
     ]
    },
    {
     "name": "stdout",
     "output_type": "stream",
     "text": [
      "no predictions\n",
      "no predictions\n",
      "no predictions\n"
     ]
    },
    {
     "name": "stderr",
     "output_type": "stream",
     "text": [
      "image 1/1: 480x640 (no detections)\n",
      "Speed: 2.1ms pre-process, 45.6ms inference, 1.4ms NMS per image at shape (1, 3, 480, 640)\n",
      "Saved 1 image to \u001b[1mruns/detect/exp2148\u001b[0m\n",
      "image 1/1: 480x640 (no detections)\n",
      "Speed: 1.8ms pre-process, 40.3ms inference, 1.1ms NMS per image at shape (1, 3, 480, 640)\n",
      "Saved 1 image to \u001b[1mruns/detect/exp2149\u001b[0m\n",
      "image 1/1: 480x640 (no detections)\n",
      "Speed: 1.9ms pre-process, 40.4ms inference, 0.8ms NMS per image at shape (1, 3, 480, 640)\n",
      "Saved 1 image to \u001b[1mruns/detect/exp2150\u001b[0m\n"
     ]
    },
    {
     "name": "stdout",
     "output_type": "stream",
     "text": [
      "no predictions\n",
      "no predictions\n",
      "no predictions\n"
     ]
    },
    {
     "name": "stderr",
     "output_type": "stream",
     "text": [
      "image 1/1: 480x640 (no detections)\n",
      "Speed: 2.1ms pre-process, 40.3ms inference, 1.0ms NMS per image at shape (1, 3, 480, 640)\n",
      "Saved 1 image to \u001b[1mruns/detect/exp2151\u001b[0m\n",
      "image 1/1: 480x640 (no detections)\n",
      "Speed: 2.3ms pre-process, 40.2ms inference, 1.0ms NMS per image at shape (1, 3, 480, 640)\n",
      "Saved 1 image to \u001b[1mruns/detect/exp2152\u001b[0m\n",
      "image 1/1: 480x640 (no detections)\n",
      "Speed: 1.8ms pre-process, 40.3ms inference, 1.1ms NMS per image at shape (1, 3, 480, 640)\n",
      "Saved 1 image to \u001b[1mruns/detect/exp2153\u001b[0m\n"
     ]
    },
    {
     "name": "stdout",
     "output_type": "stream",
     "text": [
      "no predictions\n",
      "no predictions\n",
      "no predictions\n"
     ]
    },
    {
     "name": "stderr",
     "output_type": "stream",
     "text": [
      "image 1/1: 480x640 (no detections)\n",
      "Speed: 1.9ms pre-process, 40.6ms inference, 2.0ms NMS per image at shape (1, 3, 480, 640)\n",
      "Saved 1 image to \u001b[1mruns/detect/exp2154\u001b[0m\n",
      "image 1/1: 480x640 (no detections)\n",
      "Speed: 2.2ms pre-process, 40.4ms inference, 0.8ms NMS per image at shape (1, 3, 480, 640)\n",
      "Saved 1 image to \u001b[1mruns/detect/exp2155\u001b[0m\n",
      "image 1/1: 480x640 (no detections)\n",
      "Speed: 2.0ms pre-process, 40.6ms inference, 0.9ms NMS per image at shape (1, 3, 480, 640)\n",
      "Saved 1 image to \u001b[1mruns/detect/exp2156\u001b[0m\n"
     ]
    },
    {
     "name": "stdout",
     "output_type": "stream",
     "text": [
      "no predictions\n",
      "no predictions\n",
      "no predictions\n"
     ]
    },
    {
     "name": "stderr",
     "output_type": "stream",
     "text": [
      "image 1/1: 480x640 (no detections)\n",
      "Speed: 2.3ms pre-process, 40.7ms inference, 1.2ms NMS per image at shape (1, 3, 480, 640)\n",
      "Saved 1 image to \u001b[1mruns/detect/exp2157\u001b[0m\n",
      "image 1/1: 480x640 (no detections)\n",
      "Speed: 2.3ms pre-process, 40.4ms inference, 0.8ms NMS per image at shape (1, 3, 480, 640)\n",
      "Saved 1 image to \u001b[1mruns/detect/exp2158\u001b[0m\n",
      "image 1/1: 480x640 (no detections)\n",
      "Speed: 2.0ms pre-process, 40.4ms inference, 0.8ms NMS per image at shape (1, 3, 480, 640)\n",
      "Saved 1 image to \u001b[1mruns/detect/exp2159\u001b[0m\n"
     ]
    },
    {
     "name": "stdout",
     "output_type": "stream",
     "text": [
      "no predictions\n",
      "no predictions\n",
      "no predictions\n"
     ]
    },
    {
     "name": "stderr",
     "output_type": "stream",
     "text": [
      "image 1/1: 480x640 1 umbrella\n",
      "Speed: 2.1ms pre-process, 40.6ms inference, 1.8ms NMS per image at shape (1, 3, 480, 640)\n",
      "Saved 1 image to \u001b[1mruns/detect/exp2160\u001b[0m\n",
      "image 1/1: 480x640 1 umbrella\n",
      "Speed: 2.2ms pre-process, 40.2ms inference, 1.4ms NMS per image at shape (1, 3, 480, 640)\n",
      "Saved 1 image to \u001b[1mruns/detect/exp2161\u001b[0m\n",
      "image 1/1: 480x640 (no detections)\n",
      "Speed: 2.4ms pre-process, 40.3ms inference, 1.1ms NMS per image at shape (1, 3, 480, 640)\n",
      "Saved 1 image to \u001b[1mruns/detect/exp2162\u001b[0m\n"
     ]
    },
    {
     "name": "stdout",
     "output_type": "stream",
     "text": [
      "[     109.98      417.34      536.81      478.76]\n",
      "[     110.63      416.64      536.24      478.78]\n",
      "no predictions\n"
     ]
    },
    {
     "name": "stderr",
     "output_type": "stream",
     "text": [
      "image 1/1: 480x640 1 umbrella\n",
      "Speed: 2.0ms pre-process, 40.6ms inference, 2.0ms NMS per image at shape (1, 3, 480, 640)\n",
      "Saved 1 image to \u001b[1mruns/detect/exp2163\u001b[0m\n",
      "image 1/1: 480x640 (no detections)\n",
      "Speed: 2.0ms pre-process, 40.5ms inference, 1.1ms NMS per image at shape (1, 3, 480, 640)\n",
      "Saved 1 image to \u001b[1mruns/detect/exp2164\u001b[0m\n",
      "image 1/1: 480x640 (no detections)\n",
      "Speed: 2.2ms pre-process, 40.2ms inference, 1.0ms NMS per image at shape (1, 3, 480, 640)\n",
      "Saved 1 image to \u001b[1mruns/detect/exp2165\u001b[0m\n"
     ]
    },
    {
     "name": "stdout",
     "output_type": "stream",
     "text": [
      "[     111.95      416.29      538.77      479.04]\n",
      "no predictions\n",
      "no predictions\n"
     ]
    },
    {
     "name": "stderr",
     "output_type": "stream",
     "text": [
      "image 1/1: 480x640 (no detections)\n",
      "Speed: 1.9ms pre-process, 40.6ms inference, 1.3ms NMS per image at shape (1, 3, 480, 640)\n",
      "Saved 1 image to \u001b[1mruns/detect/exp2166\u001b[0m\n",
      "image 1/1: 480x640 (no detections)\n",
      "Speed: 2.1ms pre-process, 40.5ms inference, 1.0ms NMS per image at shape (1, 3, 480, 640)\n",
      "Saved 1 image to \u001b[1mruns/detect/exp2167\u001b[0m\n",
      "image 1/1: 480x640 (no detections)\n",
      "Speed: 1.9ms pre-process, 40.4ms inference, 1.1ms NMS per image at shape (1, 3, 480, 640)\n",
      "Saved 1 image to \u001b[1mruns/detect/exp2168\u001b[0m\n"
     ]
    },
    {
     "name": "stdout",
     "output_type": "stream",
     "text": [
      "no predictions\n",
      "no predictions\n",
      "no predictions\n"
     ]
    },
    {
     "name": "stderr",
     "output_type": "stream",
     "text": [
      "image 1/1: 480x640 (no detections)\n",
      "Speed: 3.8ms pre-process, 40.6ms inference, 1.2ms NMS per image at shape (1, 3, 480, 640)\n",
      "Saved 1 image to \u001b[1mruns/detect/exp2169\u001b[0m\n",
      "image 1/1: 480x640 (no detections)\n",
      "Speed: 2.3ms pre-process, 40.2ms inference, 1.0ms NMS per image at shape (1, 3, 480, 640)\n",
      "Saved 1 image to \u001b[1mruns/detect/exp2170\u001b[0m\n",
      "image 1/1: 480x640 (no detections)\n",
      "Speed: 2.1ms pre-process, 40.3ms inference, 0.7ms NMS per image at shape (1, 3, 480, 640)\n",
      "Saved 1 image to \u001b[1mruns/detect/exp2171\u001b[0m\n"
     ]
    },
    {
     "name": "stdout",
     "output_type": "stream",
     "text": [
      "no predictions\n",
      "no predictions\n",
      "no predictions\n"
     ]
    },
    {
     "name": "stderr",
     "output_type": "stream",
     "text": [
      "image 1/1: 480x640 (no detections)\n",
      "Speed: 2.2ms pre-process, 40.8ms inference, 1.3ms NMS per image at shape (1, 3, 480, 640)\n",
      "Saved 1 image to \u001b[1mruns/detect/exp2172\u001b[0m\n",
      "image 1/1: 480x640 (no detections)\n",
      "Speed: 1.8ms pre-process, 40.3ms inference, 0.9ms NMS per image at shape (1, 3, 480, 640)\n",
      "Saved 1 image to \u001b[1mruns/detect/exp2173\u001b[0m\n",
      "image 1/1: 480x640 (no detections)\n",
      "Speed: 2.1ms pre-process, 40.4ms inference, 0.8ms NMS per image at shape (1, 3, 480, 640)\n",
      "Saved 1 image to \u001b[1mruns/detect/exp2174\u001b[0m\n"
     ]
    },
    {
     "name": "stdout",
     "output_type": "stream",
     "text": [
      "no predictions\n",
      "no predictions\n",
      "no predictions\n"
     ]
    },
    {
     "name": "stderr",
     "output_type": "stream",
     "text": [
      "image 1/1: 480x640 (no detections)\n",
      "Speed: 2.1ms pre-process, 40.6ms inference, 1.4ms NMS per image at shape (1, 3, 480, 640)\n",
      "Saved 1 image to \u001b[1mruns/detect/exp2175\u001b[0m\n",
      "image 1/1: 480x640 (no detections)\n",
      "Speed: 2.2ms pre-process, 40.7ms inference, 1.2ms NMS per image at shape (1, 3, 480, 640)\n",
      "Saved 1 image to \u001b[1mruns/detect/exp2176\u001b[0m\n",
      "image 1/1: 480x640 (no detections)\n",
      "Speed: 2.1ms pre-process, 40.6ms inference, 1.2ms NMS per image at shape (1, 3, 480, 640)\n",
      "Saved 1 image to \u001b[1mruns/detect/exp2177\u001b[0m\n"
     ]
    },
    {
     "name": "stdout",
     "output_type": "stream",
     "text": [
      "no predictions\n",
      "no predictions\n",
      "no predictions\n"
     ]
    },
    {
     "name": "stderr",
     "output_type": "stream",
     "text": [
      "image 1/1: 480x640 1 umbrella\n",
      "Speed: 2.2ms pre-process, 40.7ms inference, 1.6ms NMS per image at shape (1, 3, 480, 640)\n",
      "Saved 1 image to \u001b[1mruns/detect/exp2178\u001b[0m\n",
      "image 1/1: 480x640 1 umbrella\n",
      "Speed: 1.8ms pre-process, 40.5ms inference, 2.4ms NMS per image at shape (1, 3, 480, 640)\n",
      "Saved 1 image to \u001b[1mruns/detect/exp2179\u001b[0m\n",
      "image 1/1: 480x640 1 umbrella\n",
      "Speed: 2.0ms pre-process, 40.5ms inference, 1.8ms NMS per image at shape (1, 3, 480, 640)\n",
      "Saved 1 image to \u001b[1mruns/detect/exp2180\u001b[0m\n"
     ]
    },
    {
     "name": "stdout",
     "output_type": "stream",
     "text": [
      "[      112.5      415.07      535.77      479.45]\n",
      "[     106.64      413.58      540.16         480]\n",
      "[     113.75      415.39      531.69      479.67]\n"
     ]
    },
    {
     "name": "stderr",
     "output_type": "stream",
     "text": [
      "image 1/1: 480x640 1 umbrella\n",
      "Speed: 2.2ms pre-process, 40.3ms inference, 2.2ms NMS per image at shape (1, 3, 480, 640)\n",
      "Saved 1 image to \u001b[1mruns/detect/exp2181\u001b[0m\n",
      "image 1/1: 480x640 (no detections)\n",
      "Speed: 1.8ms pre-process, 40.1ms inference, 1.7ms NMS per image at shape (1, 3, 480, 640)\n",
      "Saved 1 image to \u001b[1mruns/detect/exp2182\u001b[0m\n",
      "image 1/1: 480x640 (no detections)\n",
      "Speed: 1.9ms pre-process, 40.3ms inference, 1.5ms NMS per image at shape (1, 3, 480, 640)\n",
      "Saved 1 image to \u001b[1mruns/detect/exp2183\u001b[0m\n"
     ]
    },
    {
     "name": "stdout",
     "output_type": "stream",
     "text": [
      "[     114.27      404.82      531.45      479.86]\n",
      "no predictions\n",
      "no predictions\n"
     ]
    },
    {
     "name": "stderr",
     "output_type": "stream",
     "text": [
      "image 1/1: 480x640 (no detections)\n",
      "Speed: 2.1ms pre-process, 40.6ms inference, 0.9ms NMS per image at shape (1, 3, 480, 640)\n",
      "Saved 1 image to \u001b[1mruns/detect/exp2184\u001b[0m\n",
      "image 1/1: 480x640 (no detections)\n",
      "Speed: 1.7ms pre-process, 40.5ms inference, 1.2ms NMS per image at shape (1, 3, 480, 640)\n",
      "Saved 1 image to \u001b[1mruns/detect/exp2185\u001b[0m\n",
      "image 1/1: 480x640 (no detections)\n",
      "Speed: 2.1ms pre-process, 41.6ms inference, 1.9ms NMS per image at shape (1, 3, 480, 640)\n",
      "Saved 1 image to \u001b[1mruns/detect/exp2186\u001b[0m\n"
     ]
    },
    {
     "name": "stdout",
     "output_type": "stream",
     "text": [
      "no predictions\n",
      "no predictions\n",
      "no predictions\n"
     ]
    },
    {
     "name": "stderr",
     "output_type": "stream",
     "text": [
      "image 1/1: 480x640 1 umbrella\n",
      "Speed: 2.0ms pre-process, 40.7ms inference, 2.6ms NMS per image at shape (1, 3, 480, 640)\n",
      "Saved 1 image to \u001b[1mruns/detect/exp2187\u001b[0m\n",
      "image 1/1: 480x640 1 umbrella\n",
      "Speed: 2.3ms pre-process, 40.6ms inference, 1.5ms NMS per image at shape (1, 3, 480, 640)\n",
      "Saved 1 image to \u001b[1mruns/detect/exp2188\u001b[0m\n",
      "image 1/1: 480x640 1 umbrella\n",
      "Speed: 2.1ms pre-process, 40.5ms inference, 1.5ms NMS per image at shape (1, 3, 480, 640)\n",
      "Saved 1 image to \u001b[1mruns/detect/exp2189\u001b[0m\n"
     ]
    },
    {
     "name": "stdout",
     "output_type": "stream",
     "text": [
      "[     99.448      415.52      529.89      478.77]\n",
      "[     100.68      418.39      524.35      479.51]\n",
      "[     84.897      417.74      531.51      479.21]\n"
     ]
    },
    {
     "name": "stderr",
     "output_type": "stream",
     "text": [
      "image 1/1: 480x640 1 umbrella\n",
      "Speed: 1.7ms pre-process, 40.3ms inference, 2.4ms NMS per image at shape (1, 3, 480, 640)\n",
      "Saved 1 image to \u001b[1mruns/detect/exp2190\u001b[0m\n",
      "image 1/1: 480x640 1 umbrella\n",
      "Speed: 2.2ms pre-process, 40.4ms inference, 1.7ms NMS per image at shape (1, 3, 480, 640)\n",
      "Saved 1 image to \u001b[1mruns/detect/exp2191\u001b[0m\n",
      "image 1/1: 480x640 1 umbrella\n",
      "Speed: 2.0ms pre-process, 40.6ms inference, 1.8ms NMS per image at shape (1, 3, 480, 640)\n",
      "Saved 1 image to \u001b[1mruns/detect/exp2192\u001b[0m\n"
     ]
    },
    {
     "name": "stdout",
     "output_type": "stream",
     "text": [
      "[     74.711      417.29      532.79      479.41]\n",
      "[      67.09      415.02      537.29      479.39]\n",
      "[     89.914      413.76      537.21         480]\n"
     ]
    },
    {
     "name": "stderr",
     "output_type": "stream",
     "text": [
      "image 1/1: 480x640 1 umbrella\n",
      "Speed: 2.1ms pre-process, 40.7ms inference, 2.0ms NMS per image at shape (1, 3, 480, 640)\n",
      "Saved 1 image to \u001b[1mruns/detect/exp2193\u001b[0m\n",
      "image 1/1: 480x640 1 umbrella\n",
      "Speed: 2.1ms pre-process, 40.4ms inference, 1.5ms NMS per image at shape (1, 3, 480, 640)\n",
      "Saved 1 image to \u001b[1mruns/detect/exp2194\u001b[0m\n",
      "image 1/1: 480x640 1 umbrella\n",
      "Speed: 1.9ms pre-process, 40.3ms inference, 2.3ms NMS per image at shape (1, 3, 480, 640)\n",
      "Saved 1 image to \u001b[1mruns/detect/exp2195\u001b[0m\n"
     ]
    },
    {
     "name": "stdout",
     "output_type": "stream",
     "text": [
      "[     100.04      414.33       536.6      479.12]\n",
      "[     99.732      414.58      536.49      479.07]\n",
      "[     99.946      414.59       536.6      479.03]\n"
     ]
    },
    {
     "name": "stderr",
     "output_type": "stream",
     "text": [
      "image 1/1: 480x640 1 umbrella\n",
      "Speed: 2.6ms pre-process, 41.6ms inference, 2.1ms NMS per image at shape (1, 3, 480, 640)\n",
      "Saved 1 image to \u001b[1mruns/detect/exp2196\u001b[0m\n",
      "image 1/1: 480x640 1 umbrella\n",
      "Speed: 2.2ms pre-process, 40.3ms inference, 3.7ms NMS per image at shape (1, 3, 480, 640)\n",
      "Saved 1 image to \u001b[1mruns/detect/exp2197\u001b[0m\n",
      "image 1/1: 480x640 1 umbrella\n",
      "Speed: 2.0ms pre-process, 40.4ms inference, 1.8ms NMS per image at shape (1, 3, 480, 640)\n",
      "Saved 1 image to \u001b[1mruns/detect/exp2198\u001b[0m\n"
     ]
    },
    {
     "name": "stdout",
     "output_type": "stream",
     "text": [
      "[     100.58      414.54      537.35      479.03]\n",
      "[     101.23      413.96      538.44      479.19]\n",
      "[     101.38      414.46      537.61      479.25]\n"
     ]
    },
    {
     "name": "stderr",
     "output_type": "stream",
     "text": [
      "image 1/1: 480x640 1 umbrella\n",
      "Speed: 2.1ms pre-process, 40.3ms inference, 2.5ms NMS per image at shape (1, 3, 480, 640)\n",
      "Saved 1 image to \u001b[1mruns/detect/exp2199\u001b[0m\n",
      "image 1/1: 480x640 (no detections)\n",
      "Speed: 2.3ms pre-process, 40.4ms inference, 1.1ms NMS per image at shape (1, 3, 480, 640)\n",
      "Saved 1 image to \u001b[1mruns/detect/exp2200\u001b[0m\n",
      "image 1/1: 480x640 (no detections)\n",
      "Speed: 2.2ms pre-process, 40.4ms inference, 0.7ms NMS per image at shape (1, 3, 480, 640)\n",
      "Saved 1 image to \u001b[1mruns/detect/exp2201\u001b[0m\n"
     ]
    },
    {
     "name": "stdout",
     "output_type": "stream",
     "text": [
      "[     101.63      415.14       536.8      479.14]\n",
      "no predictions\n",
      "no predictions\n"
     ]
    },
    {
     "name": "stderr",
     "output_type": "stream",
     "text": [
      "image 1/1: 480x640 (no detections)\n",
      "Speed: 1.8ms pre-process, 41.5ms inference, 1.1ms NMS per image at shape (1, 3, 480, 640)\n",
      "Saved 1 image to \u001b[1mruns/detect/exp2202\u001b[0m\n",
      "image 1/1: 480x640 (no detections)\n",
      "Speed: 1.9ms pre-process, 40.3ms inference, 1.0ms NMS per image at shape (1, 3, 480, 640)\n",
      "Saved 1 image to \u001b[1mruns/detect/exp2203\u001b[0m\n",
      "image 1/1: 480x640 (no detections)\n",
      "Speed: 1.8ms pre-process, 40.4ms inference, 1.0ms NMS per image at shape (1, 3, 480, 640)\n",
      "Saved 1 image to \u001b[1mruns/detect/exp2204\u001b[0m\n"
     ]
    },
    {
     "name": "stdout",
     "output_type": "stream",
     "text": [
      "no predictions\n",
      "no predictions\n",
      "no predictions\n"
     ]
    },
    {
     "name": "stderr",
     "output_type": "stream",
     "text": [
      "image 1/1: 480x640 (no detections)\n",
      "Speed: 1.9ms pre-process, 40.7ms inference, 1.2ms NMS per image at shape (1, 3, 480, 640)\n",
      "Saved 1 image to \u001b[1mruns/detect/exp2205\u001b[0m\n",
      "image 1/1: 480x640 (no detections)\n",
      "Speed: 2.3ms pre-process, 40.4ms inference, 0.8ms NMS per image at shape (1, 3, 480, 640)\n",
      "Saved 1 image to \u001b[1mruns/detect/exp2206\u001b[0m\n",
      "image 1/1: 480x640 (no detections)\n",
      "Speed: 2.0ms pre-process, 40.5ms inference, 1.2ms NMS per image at shape (1, 3, 480, 640)\n",
      "Saved 1 image to \u001b[1mruns/detect/exp2207\u001b[0m\n"
     ]
    },
    {
     "name": "stdout",
     "output_type": "stream",
     "text": [
      "no predictions\n",
      "no predictions\n",
      "no predictions\n"
     ]
    },
    {
     "name": "stderr",
     "output_type": "stream",
     "text": [
      "image 1/1: 480x640 1 umbrella\n",
      "Speed: 2.0ms pre-process, 40.7ms inference, 3.2ms NMS per image at shape (1, 3, 480, 640)\n",
      "Saved 1 image to \u001b[1mruns/detect/exp2208\u001b[0m\n",
      "image 1/1: 480x640 1 umbrella\n",
      "Speed: 2.4ms pre-process, 40.2ms inference, 1.5ms NMS per image at shape (1, 3, 480, 640)\n",
      "Saved 1 image to \u001b[1mruns/detect/exp2209\u001b[0m\n",
      "image 1/1: 480x640 1 umbrella\n",
      "Speed: 1.8ms pre-process, 40.2ms inference, 1.5ms NMS per image at shape (1, 3, 480, 640)\n",
      "Saved 1 image to \u001b[1mruns/detect/exp2210\u001b[0m\n"
     ]
    },
    {
     "name": "stdout",
     "output_type": "stream",
     "text": [
      "[     101.75      414.55      536.83      478.94]\n",
      "[     100.91      414.62      536.79      478.92]\n",
      "[     100.84      414.39      536.71      479.01]\n"
     ]
    },
    {
     "name": "stderr",
     "output_type": "stream",
     "text": [
      "image 1/1: 480x640 1 umbrella\n",
      "Speed: 1.8ms pre-process, 40.3ms inference, 2.3ms NMS per image at shape (1, 3, 480, 640)\n",
      "Saved 1 image to \u001b[1mruns/detect/exp2211\u001b[0m\n",
      "image 1/1: 480x640 1 umbrella\n",
      "Speed: 1.7ms pre-process, 40.3ms inference, 1.8ms NMS per image at shape (1, 3, 480, 640)\n",
      "Saved 1 image to \u001b[1mruns/detect/exp2212\u001b[0m\n",
      "image 1/1: 480x640 1 umbrella\n",
      "Speed: 2.2ms pre-process, 40.3ms inference, 2.2ms NMS per image at shape (1, 3, 480, 640)\n",
      "Saved 1 image to \u001b[1mruns/detect/exp2213\u001b[0m\n"
     ]
    },
    {
     "name": "stdout",
     "output_type": "stream",
     "text": [
      "[     100.18      414.51      536.72      479.07]\n",
      "[     99.887      414.65      537.87      479.21]\n",
      "[     100.37      414.55      537.28      479.21]\n"
     ]
    },
    {
     "name": "stderr",
     "output_type": "stream",
     "text": [
      "image 1/1: 480x640 1 umbrella\n",
      "Speed: 2.1ms pre-process, 40.4ms inference, 1.6ms NMS per image at shape (1, 3, 480, 640)\n",
      "Saved 1 image to \u001b[1mruns/detect/exp2214\u001b[0m\n",
      "image 1/1: 480x640 1 umbrella\n",
      "Speed: 2.0ms pre-process, 40.5ms inference, 3.2ms NMS per image at shape (1, 3, 480, 640)\n",
      "Saved 1 image to \u001b[1mruns/detect/exp2215\u001b[0m\n",
      "image 1/1: 480x640 1 umbrella\n",
      "Speed: 3.0ms pre-process, 40.5ms inference, 1.9ms NMS per image at shape (1, 3, 480, 640)\n",
      "Saved 1 image to \u001b[1mruns/detect/exp2216\u001b[0m\n"
     ]
    },
    {
     "name": "stdout",
     "output_type": "stream",
     "text": [
      "[     100.11      414.64      536.72      479.22]\n",
      "[     100.14      414.91      536.32      479.25]\n"
     ]
    },
    {
     "name": "stderr",
     "output_type": "stream",
     "text": [
      "image 1/1: 480x640 1 umbrella\n",
      "Speed: 2.5ms pre-process, 41.1ms inference, 4.1ms NMS per image at shape (1, 3, 480, 640)\n",
      "Saved 1 image to \u001b[1mruns/detect/exp2217\u001b[0m\n",
      "image 1/1: 480x640 1 umbrella\n",
      "Speed: 2.0ms pre-process, 40.4ms inference, 2.6ms NMS per image at shape (1, 3, 480, 640)\n",
      "Saved 1 image to \u001b[1mruns/detect/exp2218\u001b[0m\n"
     ]
    },
    {
     "name": "stdout",
     "output_type": "stream",
     "text": [
      "[     100.16      415.01      536.34      479.25]\n",
      "[      100.1      415.07      536.41      479.27]\n"
     ]
    },
    {
     "name": "stderr",
     "output_type": "stream",
     "text": [
      "image 1/1: 480x640 1 umbrella\n",
      "Speed: 1.7ms pre-process, 40.4ms inference, 2.0ms NMS per image at shape (1, 3, 480, 640)\n",
      "Saved 1 image to \u001b[1mruns/detect/exp2219\u001b[0m\n",
      "image 1/1: 480x640 1 umbrella\n",
      "Speed: 1.7ms pre-process, 40.4ms inference, 2.1ms NMS per image at shape (1, 3, 480, 640)\n",
      "Saved 1 image to \u001b[1mruns/detect/exp2220\u001b[0m\n"
     ]
    },
    {
     "name": "stdout",
     "output_type": "stream",
     "text": [
      "[     99.818      415.08      536.45      479.31]\n",
      "[     99.838      415.03      536.81      479.32]\n",
      "[     99.768      415.03       536.6      479.33]\n"
     ]
    },
    {
     "name": "stderr",
     "output_type": "stream",
     "text": [
      "image 1/1: 480x640 1 umbrella\n",
      "Speed: 2.0ms pre-process, 41.1ms inference, 2.5ms NMS per image at shape (1, 3, 480, 640)\n",
      "Saved 1 image to \u001b[1mruns/detect/exp2221\u001b[0m\n",
      "image 1/1: 480x640 1 umbrella\n",
      "Speed: 2.2ms pre-process, 40.3ms inference, 1.4ms NMS per image at shape (1, 3, 480, 640)\n",
      "Saved 1 image to \u001b[1mruns/detect/exp2222\u001b[0m\n",
      "image 1/1: 480x640 1 umbrella\n",
      "Speed: 2.1ms pre-process, 40.4ms inference, 1.4ms NMS per image at shape (1, 3, 480, 640)\n",
      "Saved 1 image to \u001b[1mruns/detect/exp2223\u001b[0m\n"
     ]
    },
    {
     "name": "stdout",
     "output_type": "stream",
     "text": [
      "[     99.879      414.98      536.59      479.35]\n",
      "[     99.703      414.92      536.59      479.36]\n",
      "[     99.874      415.08      536.41      479.34]\n"
     ]
    },
    {
     "name": "stderr",
     "output_type": "stream",
     "text": [
      "image 1/1: 480x640 1 umbrella\n",
      "Speed: 1.9ms pre-process, 40.8ms inference, 1.7ms NMS per image at shape (1, 3, 480, 640)\n",
      "Saved 1 image to \u001b[1mruns/detect/exp2224\u001b[0m\n",
      "image 1/1: 480x640 1 umbrella\n",
      "Speed: 2.1ms pre-process, 40.2ms inference, 1.9ms NMS per image at shape (1, 3, 480, 640)\n",
      "Saved 1 image to \u001b[1mruns/detect/exp2225\u001b[0m\n",
      "image 1/1: 480x640 1 umbrella\n",
      "Speed: 1.8ms pre-process, 40.6ms inference, 3.2ms NMS per image at shape (1, 3, 480, 640)\n",
      "Saved 1 image to \u001b[1mruns/detect/exp2226\u001b[0m\n"
     ]
    },
    {
     "name": "stdout",
     "output_type": "stream",
     "text": [
      "[     100.66      414.79      536.83      479.32]\n",
      "[     100.27      415.26      536.54      479.26]\n",
      "[     100.31      414.88      536.93      479.25]\n"
     ]
    },
    {
     "name": "stderr",
     "output_type": "stream",
     "text": [
      "image 1/1: 480x640 1 umbrella\n",
      "Speed: 2.1ms pre-process, 40.3ms inference, 2.0ms NMS per image at shape (1, 3, 480, 640)\n",
      "Saved 1 image to \u001b[1mruns/detect/exp2227\u001b[0m\n",
      "image 1/1: 480x640 1 umbrella\n",
      "Speed: 2.0ms pre-process, 40.3ms inference, 2.0ms NMS per image at shape (1, 3, 480, 640)\n",
      "Saved 1 image to \u001b[1mruns/detect/exp2228\u001b[0m\n",
      "image 1/1: 480x640 1 umbrella\n",
      "Speed: 1.9ms pre-process, 40.2ms inference, 2.9ms NMS per image at shape (1, 3, 480, 640)\n",
      "Saved 1 image to \u001b[1mruns/detect/exp2229\u001b[0m\n"
     ]
    },
    {
     "name": "stdout",
     "output_type": "stream",
     "text": [
      "[     100.59      414.79      537.06      479.16]\n",
      "[     101.04      415.06      536.06      478.98]\n",
      "[     101.29       415.2      535.87      478.94]\n"
     ]
    },
    {
     "name": "stderr",
     "output_type": "stream",
     "text": [
      "image 1/1: 480x640 1 umbrella\n",
      "Speed: 2.3ms pre-process, 40.3ms inference, 2.5ms NMS per image at shape (1, 3, 480, 640)\n",
      "Saved 1 image to \u001b[1mruns/detect/exp2230\u001b[0m\n",
      "image 1/1: 480x640 1 umbrella\n",
      "Speed: 5.2ms pre-process, 48.6ms inference, 12.2ms NMS per image at shape (1, 3, 480, 640)\n",
      "Saved 1 image to \u001b[1mruns/detect/exp2231\u001b[0m\n"
     ]
    },
    {
     "name": "stdout",
     "output_type": "stream",
     "text": [
      "[     101.88      415.11      536.33      478.88]\n",
      "[     101.97      415.01      537.52      479.02]\n"
     ]
    },
    {
     "name": "stderr",
     "output_type": "stream",
     "text": [
      "image 1/1: 480x640 1 umbrella\n",
      "Speed: 2.1ms pre-process, 44.8ms inference, 2.7ms NMS per image at shape (1, 3, 480, 640)\n",
      "Saved 1 image to \u001b[1mruns/detect/exp2232\u001b[0m\n",
      "image 1/1: 480x640 1 umbrella\n",
      "Speed: 2.3ms pre-process, 47.4ms inference, 2.3ms NMS per image at shape (1, 3, 480, 640)\n",
      "Saved 1 image to \u001b[1mruns/detect/exp2233\u001b[0m\n"
     ]
    },
    {
     "name": "stdout",
     "output_type": "stream",
     "text": [
      "[     102.41      414.81      538.06      479.12]\n",
      "[     102.57      415.03      537.88      479.18]\n"
     ]
    },
    {
     "name": "stderr",
     "output_type": "stream",
     "text": [
      "image 1/1: 480x640 (no detections)\n",
      "Speed: 12.1ms pre-process, 41.6ms inference, 1.1ms NMS per image at shape (1, 3, 480, 640)\n",
      "Saved 1 image to \u001b[1mruns/detect/exp2234\u001b[0m\n",
      "image 1/1: 480x640 (no detections)\n",
      "Speed: 2.8ms pre-process, 40.2ms inference, 1.0ms NMS per image at shape (1, 3, 480, 640)\n",
      "Saved 1 image to \u001b[1mruns/detect/exp2235\u001b[0m\n"
     ]
    },
    {
     "name": "stdout",
     "output_type": "stream",
     "text": [
      "no predictions\n",
      "no predictions\n"
     ]
    },
    {
     "name": "stderr",
     "output_type": "stream",
     "text": [
      "image 1/1: 480x640 (no detections)\n",
      "Speed: 2.4ms pre-process, 40.4ms inference, 1.1ms NMS per image at shape (1, 3, 480, 640)\n",
      "Saved 1 image to \u001b[1mruns/detect/exp2236\u001b[0m\n",
      "image 1/1: 480x640 (no detections)\n",
      "Speed: 3.5ms pre-process, 45.1ms inference, 1.0ms NMS per image at shape (1, 3, 480, 640)\n",
      "Saved 1 image to \u001b[1mruns/detect/exp2237\u001b[0m\n"
     ]
    },
    {
     "name": "stdout",
     "output_type": "stream",
     "text": [
      "no predictions\n",
      "no predictions\n"
     ]
    },
    {
     "name": "stderr",
     "output_type": "stream",
     "text": [
      "image 1/1: 480x640 (no detections)\n",
      "Speed: 1.9ms pre-process, 56.5ms inference, 7.8ms NMS per image at shape (1, 3, 480, 640)\n",
      "Saved 1 image to \u001b[1mruns/detect/exp2238\u001b[0m\n",
      "image 1/1: 480x640 1 umbrella\n",
      "Speed: 2.1ms pre-process, 43.3ms inference, 8.6ms NMS per image at shape (1, 3, 480, 640)\n",
      "Saved 1 image to \u001b[1mruns/detect/exp2239\u001b[0m\n"
     ]
    },
    {
     "name": "stdout",
     "output_type": "stream",
     "text": [
      "no predictions\n",
      "[     102.47      414.92      537.88      479.05]\n"
     ]
    },
    {
     "name": "stderr",
     "output_type": "stream",
     "text": [
      "image 1/1: 480x640 1 umbrella\n",
      "Speed: 2.1ms pre-process, 46.9ms inference, 6.3ms NMS per image at shape (1, 3, 480, 640)\n",
      "Saved 1 image to \u001b[1mruns/detect/exp2240\u001b[0m\n",
      "image 1/1: 480x640 1 umbrella\n",
      "Speed: 17.1ms pre-process, 69.2ms inference, 8.2ms NMS per image at shape (1, 3, 480, 640)\n",
      "Saved 1 image to \u001b[1mruns/detect/exp2241\u001b[0m\n"
     ]
    },
    {
     "name": "stdout",
     "output_type": "stream",
     "text": [
      "[     102.32         415      537.58         479]\n"
     ]
    },
    {
     "name": "stderr",
     "output_type": "stream",
     "text": [
      "image 1/1: 480x640 1 umbrella\n",
      "Speed: 2.2ms pre-process, 52.7ms inference, 3.7ms NMS per image at shape (1, 3, 480, 640)\n"
     ]
    },
    {
     "name": "stdout",
     "output_type": "stream",
     "text": [
      "[     102.13      414.81      537.68         479]\n"
     ]
    },
    {
     "name": "stderr",
     "output_type": "stream",
     "text": [
      "Saved 1 image to \u001b[1mruns/detect/exp2242\u001b[0m\n",
      "image 1/1: 480x640 1 umbrella\n",
      "Speed: 2.0ms pre-process, 61.3ms inference, 2.8ms NMS per image at shape (1, 3, 480, 640)\n"
     ]
    },
    {
     "name": "stdout",
     "output_type": "stream",
     "text": [
      "[     102.07      414.78      537.36      478.99]\n"
     ]
    },
    {
     "name": "stderr",
     "output_type": "stream",
     "text": [
      "Saved 1 image to \u001b[1mruns/detect/exp2243\u001b[0m\n",
      "image 1/1: 480x640 1 umbrella\n",
      "Speed: 5.3ms pre-process, 41.7ms inference, 2.3ms NMS per image at shape (1, 3, 480, 640)\n"
     ]
    },
    {
     "name": "stdout",
     "output_type": "stream",
     "text": [
      "[     102.07      414.83      536.63      478.94]\n"
     ]
    },
    {
     "name": "stderr",
     "output_type": "stream",
     "text": [
      "Saved 1 image to \u001b[1mruns/detect/exp2244\u001b[0m\n",
      "image 1/1: 480x640 (no detections)\n",
      "Speed: 2.0ms pre-process, 40.2ms inference, 1.0ms NMS per image at shape (1, 3, 480, 640)\n",
      "Saved 1 image to \u001b[1mruns/detect/exp2245\u001b[0m\n",
      "image 1/1: 480x640 (no detections)\n",
      "Speed: 2.1ms pre-process, 40.4ms inference, 1.2ms NMS per image at shape (1, 3, 480, 640)\n",
      "Saved 1 image to \u001b[1mruns/detect/exp2246\u001b[0m\n"
     ]
    },
    {
     "name": "stdout",
     "output_type": "stream",
     "text": [
      "[     101.91       414.9      537.37      479.02]\n",
      "no predictions\n"
     ]
    },
    {
     "name": "stderr",
     "output_type": "stream",
     "text": [
      "image 1/1: 480x640 (no detections)\n",
      "Speed: 2.0ms pre-process, 40.3ms inference, 1.0ms NMS per image at shape (1, 3, 480, 640)\n",
      "Saved 1 image to \u001b[1mruns/detect/exp2247\u001b[0m\n",
      "image 1/1: 480x640 (no detections)\n",
      "Speed: 2.4ms pre-process, 40.4ms inference, 1.2ms NMS per image at shape (1, 3, 480, 640)\n",
      "Saved 1 image to \u001b[1mruns/detect/exp2248\u001b[0m\n"
     ]
    },
    {
     "name": "stdout",
     "output_type": "stream",
     "text": [
      "no predictions\n",
      "no predictions\n",
      "no predictions\n"
     ]
    },
    {
     "name": "stderr",
     "output_type": "stream",
     "text": [
      "image 1/1: 480x640 (no detections)\n",
      "Speed: 2.1ms pre-process, 50.9ms inference, 1.4ms NMS per image at shape (1, 3, 480, 640)\n",
      "Saved 1 image to \u001b[1mruns/detect/exp2249\u001b[0m\n",
      "image 1/1: 480x640 (no detections)\n",
      "Speed: 2.0ms pre-process, 42.5ms inference, 1.1ms NMS per image at shape (1, 3, 480, 640)\n",
      "Saved 1 image to \u001b[1mruns/detect/exp2250\u001b[0m\n",
      "image 1/1: 480x640 (no detections)\n",
      "Speed: 2.1ms pre-process, 40.5ms inference, 1.0ms NMS per image at shape (1, 3, 480, 640)\n"
     ]
    },
    {
     "name": "stdout",
     "output_type": "stream",
     "text": [
      "no predictions\n",
      "no predictions\n"
     ]
    },
    {
     "name": "stderr",
     "output_type": "stream",
     "text": [
      "Saved 1 image to \u001b[1mruns/detect/exp2251\u001b[0m\n",
      "image 1/1: 480x640 (no detections)\n",
      "Speed: 2.3ms pre-process, 40.4ms inference, 2.0ms NMS per image at shape (1, 3, 480, 640)\n",
      "Saved 1 image to \u001b[1mruns/detect/exp2252\u001b[0m\n",
      "image 1/1: 480x640 (no detections)\n",
      "Speed: 2.2ms pre-process, 40.4ms inference, 2.1ms NMS per image at shape (1, 3, 480, 640)\n",
      "Saved 1 image to \u001b[1mruns/detect/exp2253\u001b[0m\n"
     ]
    },
    {
     "name": "stdout",
     "output_type": "stream",
     "text": [
      "no predictions\n",
      "no predictions\n",
      "no predictions\n"
     ]
    },
    {
     "name": "stderr",
     "output_type": "stream",
     "text": [
      "image 1/1: 480x640 1 umbrella\n",
      "Speed: 2.0ms pre-process, 40.3ms inference, 2.2ms NMS per image at shape (1, 3, 480, 640)\n",
      "Saved 1 image to \u001b[1mruns/detect/exp2254\u001b[0m\n",
      "image 1/1: 480x640 (no detections)\n",
      "Speed: 2.1ms pre-process, 56.7ms inference, 2.0ms NMS per image at shape (1, 3, 480, 640)\n",
      "Saved 1 image to \u001b[1mruns/detect/exp2255\u001b[0m\n"
     ]
    },
    {
     "name": "stdout",
     "output_type": "stream",
     "text": [
      "[     101.47       416.1      538.59      479.15]\n",
      "no predictions\n"
     ]
    },
    {
     "name": "stderr",
     "output_type": "stream",
     "text": [
      "image 1/1: 480x640 1 umbrella\n",
      "Speed: 6.0ms pre-process, 48.1ms inference, 4.7ms NMS per image at shape (1, 3, 480, 640)\n",
      "Saved 1 image to \u001b[1mruns/detect/exp2256\u001b[0m\n",
      "image 1/1: 480x640 (no detections)\n",
      "Speed: 2.1ms pre-process, 43.0ms inference, 1.9ms NMS per image at shape (1, 3, 480, 640)\n",
      "Saved 1 image to \u001b[1mruns/detect/exp2257\u001b[0m\n"
     ]
    },
    {
     "name": "stdout",
     "output_type": "stream",
     "text": [
      "[     100.11      415.09      537.76       478.9]\n",
      "no predictions\n"
     ]
    },
    {
     "name": "stderr",
     "output_type": "stream",
     "text": [
      "image 1/1: 480x640 1 umbrella\n",
      "Speed: 2.0ms pre-process, 53.5ms inference, 3.4ms NMS per image at shape (1, 3, 480, 640)\n",
      "Saved 1 image to \u001b[1mruns/detect/exp2258\u001b[0m\n",
      "image 1/1: 480x640 1 umbrella\n",
      "Speed: 2.0ms pre-process, 44.8ms inference, 5.3ms NMS per image at shape (1, 3, 480, 640)\n",
      "Saved 1 image to \u001b[1mruns/detect/exp2259\u001b[0m\n"
     ]
    },
    {
     "name": "stdout",
     "output_type": "stream",
     "text": [
      "[     93.548      414.23      541.17      479.65]\n",
      "[     81.158      414.07      540.23       479.6]\n"
     ]
    },
    {
     "name": "stderr",
     "output_type": "stream",
     "text": [
      "image 1/1: 480x640 (no detections)\n",
      "Speed: 4.3ms pre-process, 40.7ms inference, 1.0ms NMS per image at shape (1, 3, 480, 640)\n",
      "Saved 1 image to \u001b[1mruns/detect/exp2260\u001b[0m\n",
      "image 1/1: 480x640 (no detections)\n",
      "Speed: 2.0ms pre-process, 40.2ms inference, 1.4ms NMS per image at shape (1, 3, 480, 640)\n",
      "Saved 1 image to \u001b[1mruns/detect/exp2261\u001b[0m\n",
      "image 1/1: 480x640 (no detections)\n",
      "Speed: 2.2ms pre-process, 44.8ms inference, 1.2ms NMS per image at shape (1, 3, 480, 640)\n"
     ]
    },
    {
     "name": "stdout",
     "output_type": "stream",
     "text": [
      "no predictions\n",
      "no predictions\n"
     ]
    },
    {
     "name": "stderr",
     "output_type": "stream",
     "text": [
      "Saved 1 image to \u001b[1mruns/detect/exp2262\u001b[0m\n",
      "image 1/1: 480x640 (no detections)\n",
      "Speed: 3.3ms pre-process, 40.4ms inference, 1.9ms NMS per image at shape (1, 3, 480, 640)\n",
      "Saved 1 image to \u001b[1mruns/detect/exp2263\u001b[0m\n",
      "image 1/1: 480x640 (no detections)\n",
      "Speed: 2.1ms pre-process, 41.1ms inference, 2.3ms NMS per image at shape (1, 3, 480, 640)\n"
     ]
    },
    {
     "name": "stdout",
     "output_type": "stream",
     "text": [
      "no predictions\n",
      "no predictions\n"
     ]
    },
    {
     "name": "stderr",
     "output_type": "stream",
     "text": [
      "Saved 1 image to \u001b[1mruns/detect/exp2264\u001b[0m\n",
      "image 1/1: 480x640 (no detections)\n",
      "Speed: 2.0ms pre-process, 40.3ms inference, 1.2ms NMS per image at shape (1, 3, 480, 640)\n",
      "Saved 1 image to \u001b[1mruns/detect/exp2265\u001b[0m\n"
     ]
    },
    {
     "name": "stdout",
     "output_type": "stream",
     "text": [
      "no predictions\n",
      "no predictions\n"
     ]
    },
    {
     "name": "stderr",
     "output_type": "stream",
     "text": [
      "image 1/1: 480x640 (no detections)\n",
      "Speed: 2.1ms pre-process, 45.0ms inference, 1.2ms NMS per image at shape (1, 3, 480, 640)\n",
      "Saved 1 image to \u001b[1mruns/detect/exp2266\u001b[0m\n",
      "image 1/1: 480x640 (no detections)\n",
      "Speed: 2.1ms pre-process, 41.3ms inference, 2.3ms NMS per image at shape (1, 3, 480, 640)\n",
      "Saved 1 image to \u001b[1mruns/detect/exp2267\u001b[0m\n",
      "image 1/1: 480x640 (no detections)\n",
      "Speed: 2.2ms pre-process, 40.5ms inference, 0.9ms NMS per image at shape (1, 3, 480, 640)\n",
      "Saved 1 image to \u001b[1mruns/detect/exp2268\u001b[0m\n"
     ]
    },
    {
     "name": "stdout",
     "output_type": "stream",
     "text": [
      "no predictions\n",
      "no predictions\n"
     ]
    },
    {
     "name": "stderr",
     "output_type": "stream",
     "text": [
      "image 1/1: 480x640 (no detections)\n",
      "Speed: 2.1ms pre-process, 45.1ms inference, 4.1ms NMS per image at shape (1, 3, 480, 640)\n",
      "Saved 1 image to \u001b[1mruns/detect/exp2269\u001b[0m\n",
      "image 1/1: 480x640 (no detections)\n",
      "Speed: 2.2ms pre-process, 40.4ms inference, 1.2ms NMS per image at shape (1, 3, 480, 640)\n",
      "Saved 1 image to \u001b[1mruns/detect/exp2270\u001b[0m\n"
     ]
    },
    {
     "name": "stdout",
     "output_type": "stream",
     "text": [
      "no predictions\n",
      "no predictions\n",
      "no predictions\n"
     ]
    },
    {
     "name": "stderr",
     "output_type": "stream",
     "text": [
      "image 1/1: 480x640 (no detections)\n",
      "Speed: 2.1ms pre-process, 40.3ms inference, 1.1ms NMS per image at shape (1, 3, 480, 640)\n",
      "Saved 1 image to \u001b[1mruns/detect/exp2271\u001b[0m\n",
      "image 1/1: 480x640 (no detections)\n",
      "Speed: 2.3ms pre-process, 40.3ms inference, 1.1ms NMS per image at shape (1, 3, 480, 640)\n",
      "Saved 1 image to \u001b[1mruns/detect/exp2272\u001b[0m\n",
      "image 1/1: 480x640 (no detections)\n",
      "Speed: 2.0ms pre-process, 40.4ms inference, 1.8ms NMS per image at shape (1, 3, 480, 640)\n",
      "Saved 1 image to \u001b[1mruns/detect/exp2273\u001b[0m\n"
     ]
    },
    {
     "name": "stdout",
     "output_type": "stream",
     "text": [
      "no predictions\n",
      "no predictions\n"
     ]
    },
    {
     "name": "stderr",
     "output_type": "stream",
     "text": [
      "image 1/1: 480x640 1 umbrella\n",
      "Speed: 2.1ms pre-process, 40.5ms inference, 2.7ms NMS per image at shape (1, 3, 480, 640)\n",
      "Saved 1 image to \u001b[1mruns/detect/exp2274\u001b[0m\n",
      "image 1/1: 480x640 1 umbrella\n",
      "Speed: 11.5ms pre-process, 40.4ms inference, 5.1ms NMS per image at shape (1, 3, 480, 640)\n"
     ]
    },
    {
     "name": "stdout",
     "output_type": "stream",
     "text": [
      "no predictions\n",
      "[     87.776      414.04      543.02      479.54]\n"
     ]
    },
    {
     "name": "stderr",
     "output_type": "stream",
     "text": [
      "Saved 1 image to \u001b[1mruns/detect/exp2275\u001b[0m\n",
      "image 1/1: 480x640 1 umbrella\n",
      "Speed: 2.4ms pre-process, 47.7ms inference, 2.3ms NMS per image at shape (1, 3, 480, 640)\n",
      "Saved 1 image to \u001b[1mruns/detect/exp2276\u001b[0m\n"
     ]
    },
    {
     "name": "stdout",
     "output_type": "stream",
     "text": [
      "[     84.549         414      542.35      479.59]\n",
      "[     83.797      413.91      542.63      479.61]\n"
     ]
    },
    {
     "name": "stderr",
     "output_type": "stream",
     "text": [
      "image 1/1: 480x640 (no detections)\n",
      "Speed: 2.7ms pre-process, 41.7ms inference, 6.3ms NMS per image at shape (1, 3, 480, 640)\n",
      "Saved 1 image to \u001b[1mruns/detect/exp2277\u001b[0m\n",
      "image 1/1: 480x640 (no detections)\n",
      "Speed: 2.1ms pre-process, 40.4ms inference, 1.8ms NMS per image at shape (1, 3, 480, 640)\n",
      "Saved 1 image to \u001b[1mruns/detect/exp2278\u001b[0m\n",
      "image 1/1: 480x640 (no detections)\n",
      "Speed: 2.1ms pre-process, 40.6ms inference, 2.0ms NMS per image at shape (1, 3, 480, 640)\n",
      "Saved 1 image to \u001b[1mruns/detect/exp2279\u001b[0m\n"
     ]
    },
    {
     "name": "stdout",
     "output_type": "stream",
     "text": [
      "no predictions\n",
      "no predictions\n"
     ]
    },
    {
     "name": "stderr",
     "output_type": "stream",
     "text": [
      "image 1/1: 480x640 (no detections)\n",
      "Speed: 2.3ms pre-process, 40.6ms inference, 1.1ms NMS per image at shape (1, 3, 480, 640)\n",
      "Saved 1 image to \u001b[1mruns/detect/exp2280\u001b[0m\n"
     ]
    },
    {
     "name": "stdout",
     "output_type": "stream",
     "text": [
      "no predictions\n",
      "no predictions\n"
     ]
    },
    {
     "name": "stderr",
     "output_type": "stream",
     "text": [
      "image 1/1: 480x640 (no detections)\n",
      "Speed: 2.5ms pre-process, 47.3ms inference, 0.9ms NMS per image at shape (1, 3, 480, 640)\n",
      "Saved 1 image to \u001b[1mruns/detect/exp2281\u001b[0m\n",
      "image 1/1: 480x640 (no detections)\n",
      "Speed: 5.6ms pre-process, 40.5ms inference, 1.5ms NMS per image at shape (1, 3, 480, 640)\n",
      "Saved 1 image to \u001b[1mruns/detect/exp2282\u001b[0m\n",
      "image 1/1: 480x640 (no detections)\n",
      "Speed: 12.5ms pre-process, 40.2ms inference, 1.1ms NMS per image at shape (1, 3, 480, 640)\n"
     ]
    },
    {
     "name": "stdout",
     "output_type": "stream",
     "text": [
      "no predictions\n",
      "no predictions\n"
     ]
    },
    {
     "name": "stderr",
     "output_type": "stream",
     "text": [
      "Saved 1 image to \u001b[1mruns/detect/exp2283\u001b[0m\n",
      "image 1/1: 480x640 (no detections)\n",
      "Speed: 6.0ms pre-process, 41.4ms inference, 1.2ms NMS per image at shape (1, 3, 480, 640)\n",
      "Saved 1 image to \u001b[1mruns/detect/exp2284\u001b[0m\n"
     ]
    },
    {
     "name": "stdout",
     "output_type": "stream",
     "text": [
      "no predictions\n",
      "no predictions\n"
     ]
    },
    {
     "name": "stderr",
     "output_type": "stream",
     "text": [
      "image 1/1: 480x640 (no detections)\n",
      "Speed: 2.6ms pre-process, 46.2ms inference, 3.7ms NMS per image at shape (1, 3, 480, 640)\n",
      "Saved 1 image to \u001b[1mruns/detect/exp2285\u001b[0m\n",
      "image 1/1: 480x640 1 umbrella\n",
      "Speed: 2.1ms pre-process, 40.6ms inference, 2.6ms NMS per image at shape (1, 3, 480, 640)\n",
      "Saved 1 image to \u001b[1mruns/detect/exp2286\u001b[0m\n",
      "image 1/1: 480x640 (no detections)\n",
      "Speed: 2.1ms pre-process, 54.0ms inference, 5.6ms NMS per image at shape (1, 3, 480, 640)\n"
     ]
    },
    {
     "name": "stdout",
     "output_type": "stream",
     "text": [
      "no predictions\n",
      "[     110.26      416.97      537.62       479.1]\n"
     ]
    },
    {
     "name": "stderr",
     "output_type": "stream",
     "text": [
      "Saved 1 image to \u001b[1mruns/detect/exp2287\u001b[0m\n",
      "image 1/1: 480x640 1 umbrella\n",
      "Speed: 2.2ms pre-process, 40.3ms inference, 2.6ms NMS per image at shape (1, 3, 480, 640)\n",
      "Saved 1 image to \u001b[1mruns/detect/exp2288\u001b[0m\n"
     ]
    },
    {
     "name": "stdout",
     "output_type": "stream",
     "text": [
      "no predictions\n",
      "[     97.045       246.7      545.14      476.72]\n"
     ]
    },
    {
     "name": "stderr",
     "output_type": "stream",
     "text": [
      "image 1/1: 480x640 1 umbrella\n",
      "Speed: 2.3ms pre-process, 60.8ms inference, 12.0ms NMS per image at shape (1, 3, 480, 640)\n",
      "Saved 1 image to \u001b[1mruns/detect/exp2289\u001b[0m\n"
     ]
    },
    {
     "name": "stdout",
     "output_type": "stream",
     "text": [
      "[     108.01      417.14      535.92      478.68]\n"
     ]
    },
    {
     "ename": "AttributeError",
     "evalue": "'NoneType' object has no attribute 'shape'",
     "output_type": "error",
     "traceback": [
      "\u001b[0;31m---------------------------------------------------------------------------\u001b[0m",
      "\u001b[0;31mAttributeError\u001b[0m                            Traceback (most recent call last)",
      "\u001b[0;32m/tmp/ipykernel_18909/453609426.py\u001b[0m in \u001b[0;36m<module>\u001b[0;34m\u001b[0m\n\u001b[1;32m     12\u001b[0m     \u001b[0mimg\u001b[0m \u001b[0;34m=\u001b[0m \u001b[0mcv\u001b[0m\u001b[0;34m.\u001b[0m\u001b[0mimread\u001b[0m\u001b[0;34m(\u001b[0m\u001b[0;34mf'test_imgs/img_{i+1}.png'\u001b[0m\u001b[0;34m)\u001b[0m\u001b[0;34m\u001b[0m\u001b[0;34m\u001b[0m\u001b[0m\n\u001b[1;32m     13\u001b[0m \u001b[0;34m\u001b[0m\u001b[0m\n\u001b[0;32m---> 14\u001b[0;31m     \u001b[0mresults\u001b[0m \u001b[0;34m=\u001b[0m \u001b[0mmodel\u001b[0m\u001b[0;34m(\u001b[0m\u001b[0mimg\u001b[0m\u001b[0;34m)\u001b[0m\u001b[0;34m\u001b[0m\u001b[0;34m\u001b[0m\u001b[0m\n\u001b[0m\u001b[1;32m     15\u001b[0m \u001b[0;34m\u001b[0m\u001b[0m\n\u001b[1;32m     16\u001b[0m     \u001b[0;31m# Results\u001b[0m\u001b[0;34m\u001b[0m\u001b[0;34m\u001b[0m\u001b[0;34m\u001b[0m\u001b[0m\n",
      "\u001b[0;32m~/nn_deep_learning_2021/dl_env/lib/python3.7/site-packages/torch/nn/modules/module.py\u001b[0m in \u001b[0;36m_call_impl\u001b[0;34m(self, *input, **kwargs)\u001b[0m\n\u001b[1;32m   1100\u001b[0m         if not (self._backward_hooks or self._forward_hooks or self._forward_pre_hooks or _global_backward_hooks\n\u001b[1;32m   1101\u001b[0m                 or _global_forward_hooks or _global_forward_pre_hooks):\n\u001b[0;32m-> 1102\u001b[0;31m             \u001b[0;32mreturn\u001b[0m \u001b[0mforward_call\u001b[0m\u001b[0;34m(\u001b[0m\u001b[0;34m*\u001b[0m\u001b[0minput\u001b[0m\u001b[0;34m,\u001b[0m \u001b[0;34m**\u001b[0m\u001b[0mkwargs\u001b[0m\u001b[0;34m)\u001b[0m\u001b[0;34m\u001b[0m\u001b[0;34m\u001b[0m\u001b[0m\n\u001b[0m\u001b[1;32m   1103\u001b[0m         \u001b[0;31m# Do not call functions when jit is used\u001b[0m\u001b[0;34m\u001b[0m\u001b[0;34m\u001b[0m\u001b[0;34m\u001b[0m\u001b[0m\n\u001b[1;32m   1104\u001b[0m         \u001b[0mfull_backward_hooks\u001b[0m\u001b[0;34m,\u001b[0m \u001b[0mnon_full_backward_hooks\u001b[0m \u001b[0;34m=\u001b[0m \u001b[0;34m[\u001b[0m\u001b[0;34m]\u001b[0m\u001b[0;34m,\u001b[0m \u001b[0;34m[\u001b[0m\u001b[0;34m]\u001b[0m\u001b[0;34m\u001b[0m\u001b[0;34m\u001b[0m\u001b[0m\n",
      "\u001b[0;32m~/nn_deep_learning_2021/dl_env/lib/python3.7/site-packages/torch/autograd/grad_mode.py\u001b[0m in \u001b[0;36mdecorate_context\u001b[0;34m(*args, **kwargs)\u001b[0m\n\u001b[1;32m     26\u001b[0m         \u001b[0;32mdef\u001b[0m \u001b[0mdecorate_context\u001b[0m\u001b[0;34m(\u001b[0m\u001b[0;34m*\u001b[0m\u001b[0margs\u001b[0m\u001b[0;34m,\u001b[0m \u001b[0;34m**\u001b[0m\u001b[0mkwargs\u001b[0m\u001b[0;34m)\u001b[0m\u001b[0;34m:\u001b[0m\u001b[0;34m\u001b[0m\u001b[0;34m\u001b[0m\u001b[0m\n\u001b[1;32m     27\u001b[0m             \u001b[0;32mwith\u001b[0m \u001b[0mself\u001b[0m\u001b[0;34m.\u001b[0m\u001b[0m__class__\u001b[0m\u001b[0;34m(\u001b[0m\u001b[0;34m)\u001b[0m\u001b[0;34m:\u001b[0m\u001b[0;34m\u001b[0m\u001b[0;34m\u001b[0m\u001b[0m\n\u001b[0;32m---> 28\u001b[0;31m                 \u001b[0;32mreturn\u001b[0m \u001b[0mfunc\u001b[0m\u001b[0;34m(\u001b[0m\u001b[0;34m*\u001b[0m\u001b[0margs\u001b[0m\u001b[0;34m,\u001b[0m \u001b[0;34m**\u001b[0m\u001b[0mkwargs\u001b[0m\u001b[0;34m)\u001b[0m\u001b[0;34m\u001b[0m\u001b[0;34m\u001b[0m\u001b[0m\n\u001b[0m\u001b[1;32m     29\u001b[0m         \u001b[0;32mreturn\u001b[0m \u001b[0mcast\u001b[0m\u001b[0;34m(\u001b[0m\u001b[0mF\u001b[0m\u001b[0;34m,\u001b[0m \u001b[0mdecorate_context\u001b[0m\u001b[0;34m)\u001b[0m\u001b[0;34m\u001b[0m\u001b[0;34m\u001b[0m\u001b[0m\n\u001b[1;32m     30\u001b[0m \u001b[0;34m\u001b[0m\u001b[0m\n",
      "\u001b[0;32m~/.cache/torch/hub/ultralytics_yolov5_master/models/common.py\u001b[0m in \u001b[0;36mforward\u001b[0;34m(self, imgs, size, augment, profile)\u001b[0m\n\u001b[1;32m    530\u001b[0m                 \u001b[0mim\u001b[0m\u001b[0;34m,\u001b[0m \u001b[0mf\u001b[0m \u001b[0;34m=\u001b[0m \u001b[0mnp\u001b[0m\u001b[0;34m.\u001b[0m\u001b[0masarray\u001b[0m\u001b[0;34m(\u001b[0m\u001b[0mexif_transpose\u001b[0m\u001b[0;34m(\u001b[0m\u001b[0mim\u001b[0m\u001b[0;34m)\u001b[0m\u001b[0;34m)\u001b[0m\u001b[0;34m,\u001b[0m \u001b[0mgetattr\u001b[0m\u001b[0;34m(\u001b[0m\u001b[0mim\u001b[0m\u001b[0;34m,\u001b[0m \u001b[0;34m'filename'\u001b[0m\u001b[0;34m,\u001b[0m \u001b[0mf\u001b[0m\u001b[0;34m)\u001b[0m \u001b[0;32mor\u001b[0m \u001b[0mf\u001b[0m\u001b[0;34m\u001b[0m\u001b[0;34m\u001b[0m\u001b[0m\n\u001b[1;32m    531\u001b[0m             \u001b[0mfiles\u001b[0m\u001b[0;34m.\u001b[0m\u001b[0mappend\u001b[0m\u001b[0;34m(\u001b[0m\u001b[0mPath\u001b[0m\u001b[0;34m(\u001b[0m\u001b[0mf\u001b[0m\u001b[0;34m)\u001b[0m\u001b[0;34m.\u001b[0m\u001b[0mwith_suffix\u001b[0m\u001b[0;34m(\u001b[0m\u001b[0;34m'.jpg'\u001b[0m\u001b[0;34m)\u001b[0m\u001b[0;34m.\u001b[0m\u001b[0mname\u001b[0m\u001b[0;34m)\u001b[0m\u001b[0;34m\u001b[0m\u001b[0;34m\u001b[0m\u001b[0m\n\u001b[0;32m--> 532\u001b[0;31m             \u001b[0;32mif\u001b[0m \u001b[0mim\u001b[0m\u001b[0;34m.\u001b[0m\u001b[0mshape\u001b[0m\u001b[0;34m[\u001b[0m\u001b[0;36m0\u001b[0m\u001b[0;34m]\u001b[0m \u001b[0;34m<\u001b[0m \u001b[0;36m5\u001b[0m\u001b[0;34m:\u001b[0m  \u001b[0;31m# image in CHW\u001b[0m\u001b[0;34m\u001b[0m\u001b[0;34m\u001b[0m\u001b[0m\n\u001b[0m\u001b[1;32m    533\u001b[0m                 \u001b[0mim\u001b[0m \u001b[0;34m=\u001b[0m \u001b[0mim\u001b[0m\u001b[0;34m.\u001b[0m\u001b[0mtranspose\u001b[0m\u001b[0;34m(\u001b[0m\u001b[0;34m(\u001b[0m\u001b[0;36m1\u001b[0m\u001b[0;34m,\u001b[0m \u001b[0;36m2\u001b[0m\u001b[0;34m,\u001b[0m \u001b[0;36m0\u001b[0m\u001b[0;34m)\u001b[0m\u001b[0;34m)\u001b[0m  \u001b[0;31m# reverse dataloader .transpose(2, 0, 1)\u001b[0m\u001b[0;34m\u001b[0m\u001b[0;34m\u001b[0m\u001b[0m\n\u001b[1;32m    534\u001b[0m             \u001b[0mim\u001b[0m \u001b[0;34m=\u001b[0m \u001b[0mim\u001b[0m\u001b[0;34m[\u001b[0m\u001b[0;34m...\u001b[0m\u001b[0;34m,\u001b[0m \u001b[0;34m:\u001b[0m\u001b[0;36m3\u001b[0m\u001b[0;34m]\u001b[0m \u001b[0;32mif\u001b[0m \u001b[0mim\u001b[0m\u001b[0;34m.\u001b[0m\u001b[0mndim\u001b[0m \u001b[0;34m==\u001b[0m \u001b[0;36m3\u001b[0m \u001b[0;32melse\u001b[0m \u001b[0mnp\u001b[0m\u001b[0;34m.\u001b[0m\u001b[0mtile\u001b[0m\u001b[0;34m(\u001b[0m\u001b[0mim\u001b[0m\u001b[0;34m[\u001b[0m\u001b[0;34m...\u001b[0m\u001b[0;34m,\u001b[0m \u001b[0;32mNone\u001b[0m\u001b[0;34m]\u001b[0m\u001b[0;34m,\u001b[0m \u001b[0;36m3\u001b[0m\u001b[0;34m)\u001b[0m  \u001b[0;31m# enforce 3ch input\u001b[0m\u001b[0;34m\u001b[0m\u001b[0;34m\u001b[0m\u001b[0m\n",
      "\u001b[0;31mAttributeError\u001b[0m: 'NoneType' object has no attribute 'shape'"
     ]
    }
   ],
   "source": [
    "# TESTING, DONT RUN THIS CELL\n",
    "# Model\n",
    "from helper_functions import *\n",
    "# model = torch.hub.load('ultralytics/yolov5', 'yolov5n', pretrained=True) #faster but less accurate\n",
    "model = torch.hub.load('ultralytics/yolov5', 'yolov5s', pretrained=True) \n",
    "# model = torch.hub.load('ultralytics/yolov5', 'yolov5n6', pretrained=True) \n",
    "# model = torch.hub.load('ultralytics/yolov3', 'yolov3') #bad \n",
    "imgs = []\n",
    "\n",
    "for i in range(1000):\n",
    "\n",
    "    img = cv.imread(f'test_imgs/img_{i+1}.png')\n",
    "\n",
    "    results = model(img)\n",
    "\n",
    "    # Results\n",
    "    results.print()\n",
    "    results.save() # or .show()\n",
    "    results.pandas().xyxy[0]  # img1 predictions (pandas)\n",
    "    try:\n",
    "        results.xyxy[0]  # img1 predictions (tensor)\n",
    "        bb = results.xyxy[0].cpu().numpy()\n",
    "        bb = bb[0,:4]\n",
    "        print(bb)\n",
    "        draw_bounding_box(img, bb)\n",
    "        cv.imshow('img', img)\n",
    "        cv.waitKey(1)\n",
    "    except:\n",
    "        print('no predictions')\n",
    "\n",
    "    #save img \n",
    "    cv.imwrite(f'sign_imgs/detection_results/img_{i+1}.png', img)\n",
    "\n",
    "\n",
    "cv.destroyAllWindows()\n",
    "# results.pandas().xyxy[0]  # img1 predictions (pandas)"
   ]
  },
  {
   "cell_type": "code",
   "execution_count": null,
   "metadata": {},
   "outputs": [],
   "source": [
    "# Model\n",
    "# model = torch.hub.load('ultralytics/yolov5', 'yolov5n', pretrained=True) #faster but less accurate\n",
    "model = torch.hub.load('ultralytics/yolov5', 'yolov5s', pretrained=True) \n",
    "# model = torch.hub.load('ultralytics/yolov5', 'yolov5n6', pretrained=True) \n",
    "# model = torch.hub.load('ultralytics/yolov3', 'yolov3') #bad \n",
    "model.to(device)\n",
    "\n",
    "# Analyze network\n",
    "\n",
    "# print(model)\n",
    "\n",
    "# for param_name, param in model.named_parameters():\n",
    "#     print(param_name)\n",
    "\n",
    "# for i, (k, v) in enumerate(model.named_parameters()):\n",
    "#     print(f'{i} - {k}')\n",
    "\n",
    "#https://github.com/ultralytics/yolov5/issues/1314\n",
    "\n",
    "#backnbone is layers 0->9\n",
    "\n",
    "backbone_layers = [f'model.{x}' for x in range(10)]\n",
    "\n",
    "backbone = nn.Sequential(\n",
    "    model.model.model.model[0],\n",
    "    model.model.model.model[1],\n",
    "    model.model.model.model[2],\n",
    "    model.model.model.model[3],\n",
    "    model.model.model.model[4],\n",
    "    model.model.model.model[5],\n",
    "    model.model.model.model[6],\n",
    "    model.model.model.model[7],\n",
    "    model.model.model.model[8],\n",
    "    model.model.model.model[9],\n",
    "    model.model.model.model[10],\n",
    "    )\n",
    "\n",
    "# print(backbone)\n",
    "\n",
    "class FeatureExtractor(nn.Module):\n",
    "    def __init__(self, backbone): #(default for 640x320)\n",
    "        super().__init__()\n",
    "\n",
    "        ## Pretrained layers\n",
    "        self.pretrained = backbone\n",
    "\n",
    "        ### Flatten layer\n",
    "        self.flatten = nn.Flatten(start_dim=1)\n",
    "\n",
    "    def forward(self, x):\n",
    "        # Apply convolutions\n",
    "        x = self.pretrained(x)\n",
    "        # Flatten\n",
    "        x = self.flatten(x)\n",
    "        return x\n",
    "\n",
    "class Detector(nn.Module):\n",
    "    def __init__(self, add_inputs=4, regr_out=22, class_out=13, features=76800): #(default for 640x320)\n",
    "        super().__init__()\n",
    "        ### Linear sections\n",
    "        self.lin = nn.Sequential(\n",
    "            # First linear layer\n",
    "            nn.Linear(in_features=features+add_inputs, out_features=512),\n",
    "            nn.ReLU(True),\n",
    "            nn.Linear(in_features=512, out_features=regr_out+class_out),\n",
    "        )\n",
    "        # #regression output\n",
    "        # self.lin_regr = nn.Sequential(\n",
    "        #     # First linear layer\n",
    "        #     nn.Linear(in_features=1024, out_features=512),\n",
    "        #     nn.ReLU(True),\n",
    "        #     # nn.Dropout(p=0.5),\n",
    "        #     # Second linear\n",
    "        #     nn.Linear(in_features=512, out_features=regr_out)\n",
    "        # )\n",
    "        # # classification output\n",
    "        # self.lin_class = nn.Sequential(\n",
    "        #     # First linear layer\n",
    "        #     nn.Linear(in_features=1024, out_features=512),\n",
    "        #     nn.ReLU(True),\n",
    "        #     # nn.Dropout(p=0.5),\n",
    "        #     # Second linear\n",
    "        #     nn.Linear(in_features=512, out_features=class_out)\n",
    "        # )\n",
    "        \n",
    "    def forward(self, x):\n",
    "        x = self.lin(x)\n",
    "        return x\n",
    "\n",
    "feature_extractor=FeatureExtractor(backbone)\n",
    "#define detector\n",
    "detector = Detector(add_inputs=4, regr_out=22-16+2, class_out=13, features=20480)\n",
    "\n",
    "#freeeze backbone\n",
    "for param in feature_extractor.pretrained.parameters():\n",
    "    param.requires_grad = False\n",
    "\n",
    "feature_extractor.to(device)\n",
    "detector.to(device)\n",
    "\n",
    "# #check\n",
    "# for param_name, param in detector.named_parameters():\n",
    "#     print('%s \\t- requires_grad=%s' % (param_name, param.requires_grad))"
   ]
  },
  {
   "cell_type": "code",
   "execution_count": null,
   "metadata": {},
   "outputs": [],
   "source": [
    "# test backbone\n",
    "#show the image with opencv\n",
    "img = cv.imread('tests/test_img.jpg')\n",
    "#resize to 480 x 640\n",
    "img = cv.resize(img, (320, 240))\n",
    "#convert to tensor\n",
    "img = torch.from_numpy(img).float().permute(2, 0, 1)\n",
    "#add dimension\n",
    "img = img.unsqueeze(0).to(device)\n",
    "print(img.shape)\n",
    "\n",
    "detector.eval()\n",
    "\n",
    "# Inference\n",
    "with torch.no_grad():\n",
    "    data = torch.zeros(1, 4).to(device)\n",
    "    feat = feature_extractor(img)\n",
    "    input = torch.cat((feat, data), dim=1)\n",
    "    print(input.shape)\n",
    "    out = detector(input) \n",
    "    print(out.shape) # (320, 240)->torch.Size([1, 20480])\n",
    "                    # (640, 480)->torch.Size([1, 76800])\n",
    "\n",
    "\n",
    "\n"
   ]
  },
  {
   "cell_type": "markdown",
   "metadata": {},
   "source": [
    "## Loading images and Labels"
   ]
  },
  {
   "cell_type": "code",
   "execution_count": null,
   "metadata": {},
   "outputs": [],
   "source": [
    "#dataset\n",
    "class CsvDataset(Dataset):\n",
    "    def __init__(self, folder, transform=None, in_ram=False):\n",
    "        self.transform = transform\n",
    "        self.in_ram = in_ram\n",
    "        self.folder = folder\n",
    "        self.data = []\n",
    "        class_labels = []\n",
    "        with open(folder+'/classification_labels.csv', 'r') as f:\n",
    "            lines = f.read().split('\\n')\n",
    "            lines = lines[0:-1] #remove footer\n",
    "            # Get x and y values from each line and append to self.data\n",
    "            labels = []\n",
    "            for i in tqdm(range(len(lines))):\n",
    "                line = lines[i]\n",
    "                sample = line.split(',')\n",
    "                #convert to float\n",
    "                label = np.array([float(s) for s in sample])\n",
    "                #convert to tensor\n",
    "                label = torch.from_numpy(label).float()\n",
    "                # img = img.unsqueeze(0)\n",
    "                class_labels.append(label)\n",
    "\n",
    "        input_data = []\n",
    "        with open(folder+'/input_data.csv', 'r') as f:\n",
    "            lines = f.read().split('\\n')\n",
    "            lines = lines[0:-1] #remove footer\n",
    "            # Get x and y values from each line and append to self.data\n",
    "            labels = []\n",
    "            for i in tqdm(range(len(lines))):\n",
    "                line = lines[i]\n",
    "                sample = line.split(',')\n",
    "                #convert to float\n",
    "                label = np.array([float(s) for s in sample])\n",
    "                #convert to tensor\n",
    "                label = torch.from_numpy(label).float()\n",
    "                # img = img.unsqueeze(0)\n",
    "                input_data.append(label)\n",
    "\n",
    "        #load labels\n",
    "        with open(folder+'/regression_labels.csv', 'r') as f:\n",
    "            lines = f.read().split('\\n')\n",
    "            lines = lines[0:-1] #remove footer\n",
    "            # Get x and y values from each line and append to self.data\n",
    "            labels = []\n",
    "            for i in tqdm(range(len(lines))):\n",
    "                line = lines[i]\n",
    "                sample = line.split(',')\n",
    "                #convert to float\n",
    "                label = np.array([float(s) for s in sample])\n",
    "                #convert to tensor\n",
    "                label = torch.from_numpy(label).float()\n",
    "                #load img\n",
    "                # img = cv.imread(folder+f'/img_{i+1}.png')\n",
    "                # img = cv.resize(img, (320, 240))\n",
    "                if self.in_ram:\n",
    "                    img = cv.imread(folder+f'/img_{i+1}.png')\n",
    "                    img = cv.resize(img, (320, 240))\n",
    "                    img = torch.from_numpy(img).float().permute(2, 0, 1)\n",
    "                    self.data.append((img, input_data[i], label, class_labels[i]))  \n",
    "                else:\n",
    "                    self.data.append((input_data[i], label, class_labels[i])) #no image\n",
    "                    #save img to disk\n",
    "                    # cv.imwrite(folder+f'/img_{i+1}.png', img)\n",
    "\n",
    "    def __len__(self):\n",
    "        # The length of the dataset is simply the length of the self.data list\n",
    "        return len(self.data)\n",
    "\n",
    "    def __getitem__(self, idx):\n",
    "        # Our sample is the element idx of the list self.data\n",
    "        sample = self.data[idx]\n",
    "        if not self.in_ram:\n",
    "            # img = read_image(read_image(img_path))\n",
    "            img = cv.imread(self.folder+f'/img_{idx+1}.png')\n",
    "            img = cv.resize(img, (320, 240))\n",
    "            img = torch.from_numpy(img).float().permute(2, 0, 1)\n",
    "            sample = (img, sample[0], sample[1], sample[2])\n",
    "        if self.transform:\n",
    "            sample = self.transform(sample)\n",
    "        return sample\n",
    "\n",
    "#create dataset\n",
    "train_dataset = CsvDataset(folder='training_imgs')\n",
    "\n",
    "train_dataloader = DataLoader(train_dataset, batch_size=128, shuffle=True)"
   ]
  },
  {
   "cell_type": "code",
   "execution_count": null,
   "metadata": {},
   "outputs": [],
   "source": [
    "#test dataloader\n",
    "sample = next(iter(train_dataloader))\n",
    "print(sample[0].shape)\n",
    "print(sample[1].shape)\n",
    "print(sample[2].shape)\n",
    "print(sample[3].shape)"
   ]
  },
  {
   "cell_type": "markdown",
   "metadata": {},
   "source": [
    "## Training"
   ]
  },
  {
   "cell_type": "code",
   "execution_count": null,
   "metadata": {},
   "outputs": [],
   "source": [
    "# Training function\n",
    "def train_epoch(ext, det, dataloader, class_loss_fn, regr_loss_fn, optimizer, device):\n",
    "    # Set the model to training mode\n",
    "    ext.eval() #dont train the extractor\n",
    "    det.train() #train detector\n",
    "    # Initialize the loss\n",
    "    train_loss_class = []\n",
    "    train_loss_regr = []\n",
    "\n",
    "    err_losses = []\n",
    "    dist_losses = []\n",
    "    curv_losses = []\n",
    "    bb_losses = []\n",
    "\n",
    "    # Loop over the training batches\n",
    "    for (img, input_data, regr_label, class_label) in tqdm(dataloader):\n",
    "        # Move the input and target data to the selected device\n",
    "        img, input_data, regr_label, class_label = img.to(device), input_data.to(device), regr_label.to(device), class_label.to(device)\n",
    "        # Compute the features\n",
    "        features = ext(img)\n",
    "        #concatenate features and input_data\n",
    "        input = torch.cat((features, input_data), dim=1)\n",
    "        # Zero the gradients\n",
    "        optimizer.zero_grad()\n",
    "        # Compute the output\n",
    "        output = det(input)\n",
    "\n",
    "        #regression 22 values\n",
    "        #classification: 3 states, 3 next states, 7 signs\n",
    "        regr_out = output[:, :22-16+2]\n",
    "        err_out = regr_out[:, :2]\n",
    "        dist_out = regr_out[:, 2]\n",
    "        curv_out = regr_out[:, 3]\n",
    "        bb_out = regr_out[:, 4:8]\n",
    "\n",
    "        err_label = regr_label[:, :2]\n",
    "        dist_label = regr_label[:, 2]\n",
    "        curv_label = regr_label[:, 3]\n",
    "        bb_label = regr_label[:, 4:8]\n",
    "\n",
    "        state_out = output[:, 22-16+2:25-16+2]\n",
    "        next_out = output[:, 25-16+2:28-16+2]\n",
    "        sign_out = output[:, 28-16+2:]\n",
    "        \n",
    "        state_label = class_label[:, :3]\n",
    "        next_label = class_label[:, 3:6]\n",
    "        sign_label = class_label[:, 6:]\n",
    "\n",
    "        # Compute the losses\n",
    "        # regr_loss = regr_loss_fn(regr_out, regr_label)\n",
    "\n",
    "        err_loss = 50.0*regr_loss_fn(err_out, err_label)\n",
    "        dist_loss = 0.1*regr_loss_fn(dist_out, dist_label)\n",
    "        curv_loss = 0.1*regr_loss_fn(curv_out, curv_label)\n",
    "        bb_loss = 1.0*regr_loss_fn(bb_out, bb_label)\n",
    "\n",
    "\n",
    "        state_loss = 0.5*class_loss_fn(state_out, state_label)\n",
    "        next_loss = 0.1*class_loss_fn(next_out, next_label)\n",
    "        sign_loss = 5.0*class_loss_fn(sign_out, sign_label)\n",
    "        loss = err_loss + dist_loss + curv_loss + bb_loss + state_loss + next_loss + sign_loss\n",
    "\n",
    "        \n",
    "        # Compute the gradients\n",
    "        loss.backward()\n",
    "        # Update the weights\n",
    "        optimizer.step()\n",
    "        #batch loss\n",
    "        c_loss = (state_loss + next_loss + sign_loss).detach().cpu().numpy()\n",
    "        train_loss_class.append(c_loss)\n",
    "        err_losses.append(err_loss.detach().cpu().numpy())\n",
    "        dist_losses.append(dist_loss.detach().cpu().numpy())\n",
    "        curv_losses.append(curv_loss.detach().cpu().numpy())\n",
    "        bb_losses.append(bb_loss.detach().cpu().numpy())\n",
    "    # Return the average training loss\n",
    "    train_loss_c = np.mean(train_loss_class)\n",
    "    err_loss = np.mean(err_losses)\n",
    "    dist_loss = np.mean(dist_losses)\n",
    "    curv_loss = np.mean(curv_losses)\n",
    "    bb_loss = np.mean(bb_losses)\n",
    "    # print(f\"Training loss: {train_loss}\")\n",
    "    return train_loss_c, err_loss, dist_loss, curv_loss, bb_loss\n",
    "\n",
    "def get_avg_loss(ext, det, dataloader, class_loss_fn, regr_loss_fn, device):\n",
    "    ext.eval()\n",
    "    det.eval()\n",
    "    class_losses = []\n",
    "    regr_losses = []\n",
    "    with torch.no_grad():\n",
    "        for (img, input_data, regr_label, class_label) in tqdm(dataloader):\n",
    "            # Move the input and target data to the selected device\n",
    "            img, input_data, regr_label, class_label = img.to(device), input_data.to(device), regr_label.to(device), class_label.to(device)\n",
    "            # Compute the features\n",
    "            features = ext(img)\n",
    "            #concatenate features and input_data\n",
    "            input = torch.cat((features, input_data), dim=1)\n",
    "            # Compute the output\n",
    "            output = det(input)\n",
    "            \n",
    "            #regression 22 values\n",
    "            #classification: 3 states, 3 next states, 7 signs\n",
    "            regr_out = output[:, :22]\n",
    "            state_out = output[:, 22:25]\n",
    "            next_out = output[:, 25:28]\n",
    "            sign_out = output[:, 28:]\n",
    "            \n",
    "            state_label = class_label[:, :3]\n",
    "            next_label = class_label[:, 3:6]\n",
    "            sign_label = class_label[:, 6:]\n",
    "\n",
    "            # Compute the losses\n",
    "            regr_loss = regr_loss_fn(regr_out, regr_label)\n",
    "            state_loss = class_loss_fn(state_out, state_label)\n",
    "            next_loss = class_loss_fn(next_out, next_label)\n",
    "            sign_loss = class_loss_fn(sign_out, sign_label)\n",
    "            class_loss = state_loss + next_loss + sign_loss\n",
    "\n",
    "            class_losses.append(class_loss.detach().cpu().numpy())\n",
    "            regr_losses.append(regr_loss.detach().cpu().numpy())\n",
    "    # Return the accuracy and test loss\n",
    "    class_loss = np.mean(class_losses)\n",
    "    regr_loss = np.mean(regr_losses)\n",
    "    return class_loss, regr_loss"
   ]
  },
  {
   "cell_type": "code",
   "execution_count": null,
   "metadata": {},
   "outputs": [],
   "source": [
    "# #load models\n",
    "# detector.load_state_dict(torch.load('detector.pt'))\n",
    "# feature_extractor.load_state_dict(torch.load('feature_extractor.pt'))\n",
    "\n",
    "#parameters\n",
    "lr = 0.001\n",
    "epochs = 3\n",
    "optimizer = torch.optim.Adam(detector.parameters(), lr=lr)\n",
    "regr_loss_fn = nn.MSELoss()\n",
    "class_loss_fn = nn.CrossEntropyLoss()\n",
    "\n",
    "for epoch in range(epochs):\n",
    "    print(f\"Epoch {epoch+1}/{epochs}\")\n",
    "    train_loss_c, err_loss, dist_loss, curv_loss, bb_loss = train_epoch(feature_extractor, detector, train_dataloader, class_loss_fn, regr_loss_fn, optimizer, device)\n",
    "    print(f\"err_loss: {err_loss}\")\n",
    "    print(f\"dist_loss: {dist_loss}\")\n",
    "    print(f\"curv_loss: {curv_loss}\")\n",
    "    print(f\"bb_loss: {bb_loss}\")\n",
    "    print(f\"Classification loss: {train_loss_c}\")\n",
    "    torch.save(detector.state_dict(), 'models/detector.pt')\n",
    "    torch.save(feature_extractor.state_dict(), 'models/feature_extractor.pt')"
   ]
  },
  {
   "cell_type": "code",
   "execution_count": null,
   "metadata": {},
   "outputs": [],
   "source": [
    "#testing\n",
    "test_dataset = CsvDataset(folder='test_imgs')\n",
    "test_dataloader = DataLoader(test_dataset, batch_size=100, shuffle=True)\n",
    "\n",
    "#get accuracy\n",
    "train_class_loss, train_regr_loss = get_avg_loss(feature_extractor, detector, train_dataloader, class_loss_fn, regr_loss_fn, device)\n",
    "test_class_loss, test_regr_loss = get_avg_loss(feature_extractor, detector, test_dataloader, class_loss_fn, regr_loss_fn, device)\n",
    "\n",
    "print(f\"Training classification loss: {train_class_loss}\")\n",
    "print(f\"Training regression loss: {train_regr_loss}\\n\")\n",
    "print(f\"Testing classification loss: {test_class_loss}\")\n",
    "print(f\"Testing regression loss: {test_regr_loss}\")"
   ]
  },
  {
   "cell_type": "code",
   "execution_count": null,
   "metadata": {},
   "outputs": [],
   "source": [
    "print(test_dataset.data[0][0].shape)"
   ]
  },
  {
   "cell_type": "code",
   "execution_count": null,
   "metadata": {},
   "outputs": [],
   "source": [
    "detector.load_state_dict(torch.load('models/detector.pt'))\n",
    "feature_extractor.load_state_dict(torch.load('models/feature_extractor.pt'))\n",
    "\n",
    "# #save pytorch model\n",
    "# torch.save(detector.state_dict(), 'detector.pt')\n",
    "# torch.save(feature_extractor.state_dict(), 'feature_extractor.pt')\n",
    "\n",
    "#save the model so that opencv can load it\n",
    "import torch\n",
    "import torch.onnx\n",
    "import torchvision\n",
    "import torchvision.models as models\n",
    "import sys\n",
    "\n",
    "device = torch.device('cpu')\n",
    "detector.to(device)\n",
    "feature_extractor.to(device)\n",
    " \n",
    "onnx_detector_path = \"models/detector.onnx\"\n",
    "onnx_feature_extractor_path = \"models/feature_extractor.onnx\"\n",
    "\n",
    "# set the model to inference mode\n",
    "detector.eval()\n",
    "feature_extractor.eval()\n",
    " \n",
    "# Create some sample input in the shape this model expects \n",
    "# This is needed because the convertion forward pass the network once \n",
    "dummy_input = torch.randn(1, 3, 240, 320)\n",
    "dummy_input2 = torch.randn(1, 20484)\n",
    "torch.onnx.export(feature_extractor, dummy_input, onnx_feature_extractor_path, verbose=True)\n",
    "torch.onnx.export(detector, dummy_input2, onnx_detector_path, verbose=True)\n"
   ]
  },
  {
   "cell_type": "code",
   "execution_count": null,
   "metadata": {},
   "outputs": [],
   "source": [
    "#test with opencv\n",
    "sample_image = \"training_imgs/img_1.png\"\n",
    "images = [cv.imread(f\"training_imgs/img_{i+1}.png\") for i in range(100)]\n",
    " \n",
    "#The Magic:\n",
    "det =  cv.dnn.readNetFromONNX(onnx_detector_path) \n",
    "ext = cv.dnn.readNetFromONNX(onnx_feature_extractor_path)\n",
    "\n",
    "for i in tqdm(range(100)):\n",
    "    image = images[i]\n",
    "    blob = cv.dnn.blobFromImage(image, 1.0, (320, 240),(0, 0, 0), swapRB=True, crop=False)\n",
    "    ext.setInput(blob)\n",
    "    features = ext.forward()\n",
    "    # print(features.shape)\n",
    "    action_vec = np.ones((1,4))\n",
    "    input = np.concatenate((features, action_vec), axis=1)\n",
    "    # print(input.shape)\n",
    "    det.setInput(input)\n",
    "    preds = det.forward()\n",
    "\n",
    "print(f\"Predictions: {preds}\")\n",
    "print(f\"Predictions shape: {preds.shape}\")"
   ]
  }
 ],
 "metadata": {
  "interpreter": {
   "hash": "cee89b7c6bc96453738565335b56b694d8a30ac65e979633b683f8408c8233c6"
  },
  "kernelspec": {
   "display_name": "Python 3.7.12 64-bit ('dl_env': venv)",
   "language": "python",
   "name": "python3"
  },
  "language_info": {
   "codemirror_mode": {
    "name": "ipython",
    "version": 3
   },
   "file_extension": ".py",
   "mimetype": "text/x-python",
   "name": "python",
   "nbconvert_exporter": "python",
   "pygments_lexer": "ipython3",
   "version": "3.7.12"
  },
  "orig_nbformat": 4
 },
 "nbformat": 4,
 "nbformat_minor": 2
}
